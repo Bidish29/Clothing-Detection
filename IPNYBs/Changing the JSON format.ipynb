{
 "cells": [
  {
   "cell_type": "code",
   "execution_count": 5,
   "metadata": {},
   "outputs": [],
   "source": [
    "# Code to extract 10000 Random images\n",
    "import os, random\n",
    "import shutil\n",
    "\n",
    "m = 2\n",
    "\n",
    "src_dir = \"D:/DCU/Practicum/Datasets/DeepFashion2/train/image/\"\n",
    "#dst_dir = \"D:/DCU/Practicum/Datasets/DeepFashion2/DEEPFASHION/Train/\"\n",
    "dst_dir = \"D:/DCU/Practicum/Datasets/DeepFashion2/JSON_EDIT/New\"\n",
    "\n",
    "file_list = os.listdir(src_dir)\n",
    "\n",
    "for i in range(m):\n",
    "        a = random.choice(file_list)\n",
    "        shutil.copy(src_dir + a, dst_dir + \"/\" + a)"
   ]
  },
  {
   "cell_type": "code",
   "execution_count": 1,
   "metadata": {},
   "outputs": [
    {
     "data": {
      "text/plain": [
       "'D:\\\\DCU\\\\Practicum\\\\Datasets\\\\DeepFashion2\\\\Mask RCNN\\\\Clothes\\\\IPNYBs'"
      ]
     },
     "execution_count": 1,
     "metadata": {},
     "output_type": "execute_result"
    }
   ],
   "source": [
    "pwd"
   ]
  },
  {
   "cell_type": "code",
   "execution_count": 2,
   "metadata": {},
   "outputs": [
    {
     "name": "stdout",
     "output_type": "stream",
     "text": [
      "2\n"
     ]
    }
   ],
   "source": [
    "import os\n",
    "from os.path import splitext\n",
    "import shutil\n",
    "src = 'D:/DCU/Practicum/Datasets/DeepFashion2/JSON_EDIT/New'\n",
    "#src = 'D:/DCU/Practicum/Datasets/DeepFashion2/DEEPFASHION/Train/'\n",
    "anno = 'D:/DCU/Practicum/Datasets/DeepFashion2/train/annos/'\n",
    "#dst_dir = \"D:/DCU/Practicum/Datasets/DeepFashion2/DEEPFASHION/Train/\"\n",
    "dst_dir = \"D:/DCU/Practicum/Datasets/DeepFashion2/JSON_EDIT/New\"\n",
    "list2 = os.listdir(src)\n",
    "list1 = os.listdir(anno)\n",
    "\n",
    "documents = set([splitext(filename)[0] for filename in list2])\n",
    "matches = [filename for filename in set(list1) if splitext(filename)[0] in documents]\n",
    "\n",
    "#print (matches)\n",
    "#print(type(matches))\n",
    "print (len(matches))\n",
    "m = len(matches)\n",
    "#file_list = os.listdir(matches)\n",
    "\n",
    "for i in range(m):\n",
    "        a = matches[i]\n",
    "        shutil.copy(anno + a, dst_dir + \"/\" + a)"
   ]
  },
  {
   "cell_type": "code",
   "execution_count": null,
   "metadata": {},
   "outputs": [],
   "source": [
    "import json\n",
    "\n",
    "with open('test.json') as data_file:\n",
    "    test = json.load(data_file)"
   ]
  },
  {
   "cell_type": "code",
   "execution_count": null,
   "metadata": {},
   "outputs": [],
   "source": [
    "test"
   ]
  },
  {
   "cell_type": "code",
   "execution_count": 1,
   "metadata": {},
   "outputs": [
    {
     "data": {
      "text/plain": [
       "{'048660.jpg57030': {'filename': '048660.jpg',\n",
       "  'size': 57030,\n",
       "  'regions': [{'shape_attributes': {'name': 'polygon',\n",
       "     'all_points_x': [357,\n",
       "      399,\n",
       "      383,\n",
       "      343,\n",
       "      368,\n",
       "      418,\n",
       "      437,\n",
       "      487,\n",
       "      479,\n",
       "      541,\n",
       "      525,\n",
       "      543,\n",
       "      533,\n",
       "      587,\n",
       "      621,\n",
       "      523,\n",
       "      556,\n",
       "      541,\n",
       "      556,\n",
       "      527,\n",
       "      278,\n",
       "      309,\n",
       "      257,\n",
       "      284],\n",
       "     'all_points_y': [163,\n",
       "      197,\n",
       "      230,\n",
       "      293,\n",
       "      276,\n",
       "      288,\n",
       "      313,\n",
       "      297,\n",
       "      268,\n",
       "      286,\n",
       "      314,\n",
       "      314,\n",
       "      274,\n",
       "      261,\n",
       "      414,\n",
       "      422,\n",
       "      552,\n",
       "      579,\n",
       "      625,\n",
       "      627,\n",
       "      615,\n",
       "      391,\n",
       "      303,\n",
       "      240]},\n",
       "    'region_attributes': {'name': 'shirt'}},\n",
       "   {'shape_attributes': {'name': 'polygon',\n",
       "     'all_points_x': [299,\n",
       "      293,\n",
       "      268,\n",
       "      332,\n",
       "      401,\n",
       "      418,\n",
       "      370,\n",
       "      420,\n",
       "      412,\n",
       "      410,\n",
       "      458,\n",
       "      506,\n",
       "      550],\n",
       "     'all_points_y': [629,\n",
       "      658,\n",
       "      874,\n",
       "      1189,\n",
       "      1173,\n",
       "      1123,\n",
       "      890,\n",
       "      717,\n",
       "      966,\n",
       "      1179,\n",
       "      1212,\n",
       "      1125,\n",
       "      638]},\n",
       "    'region_attributes': {'name': 'pant'}}],\n",
       "  'file_attributes': {}}}"
      ]
     },
     "execution_count": 1,
     "metadata": {},
     "output_type": "execute_result"
    }
   ],
   "source": [
    "import json\n",
    "\n",
    "with open('via_export_json.json') as data_file:\n",
    "    test = json.load(data_file)\n",
    "test    "
   ]
  },
  {
   "cell_type": "code",
   "execution_count": 1,
   "metadata": {},
   "outputs": [
    {
     "data": {
      "text/plain": [
       "'113252'"
      ]
     },
     "execution_count": 1,
     "metadata": {},
     "output_type": "execute_result"
    }
   ],
   "source": [
    "filename=\"113252.json\"\n",
    "sep = '.'\n",
    "rest = filename.split(sep, 1)[0]\n",
    "rest"
   ]
  },
  {
   "cell_type": "code",
   "execution_count": 4,
   "metadata": {},
   "outputs": [
    {
     "name": "stdout",
     "output_type": "stream",
     "text": [
      "D:\\DCU\\Practicum\\Datasets\\DeepFashion2\\JSON_EDIT\\New\n"
     ]
    }
   ],
   "source": [
    "%cd D:\\\\DCU\\\\Practicum\\\\Datasets\\\\DeepFashion2\\\\JSON_EDIT\\\\New"
   ]
  },
  {
   "cell_type": "code",
   "execution_count": 7,
   "metadata": {},
   "outputs": [
    {
     "data": {
      "text/html": [
       "<div>\n",
       "<style scoped>\n",
       "    .dataframe tbody tr th:only-of-type {\n",
       "        vertical-align: middle;\n",
       "    }\n",
       "\n",
       "    .dataframe tbody tr th {\n",
       "        vertical-align: top;\n",
       "    }\n",
       "\n",
       "    .dataframe thead th {\n",
       "        text-align: right;\n",
       "    }\n",
       "</style>\n",
       "<table border=\"1\" class=\"dataframe\">\n",
       "  <thead>\n",
       "    <tr style=\"text-align: right;\">\n",
       "      <th></th>\n",
       "      <th>item2</th>\n",
       "      <th>item1</th>\n",
       "    </tr>\n",
       "  </thead>\n",
       "  <tbody>\n",
       "    <tr>\n",
       "      <th>category_name</th>\n",
       "      <td>shorts</td>\n",
       "      <td>short sleeve top</td>\n",
       "    </tr>\n",
       "    <tr>\n",
       "      <th>segmentation</th>\n",
       "      <td>[[516, 359, 425, 381, 318, 374, 312, 453, 322,...</td>\n",
       "      <td>[[422, 21, 423, 93, 385, 128, 307, 95, 284, 48...</td>\n",
       "    </tr>\n",
       "    <tr>\n",
       "      <th>landmarks</th>\n",
       "      <td>[318, 374, 1, 425, 381, 1, 516, 359, 1, 312, 4...</td>\n",
       "      <td>[344, 40, 1, 284, 48, 2, 307, 95, 2, 385, 128,...</td>\n",
       "    </tr>\n",
       "  </tbody>\n",
       "</table>\n",
       "</div>"
      ],
      "text/plain": [
       "                                                           item2  \\\n",
       "category_name                                             shorts   \n",
       "segmentation   [[516, 359, 425, 381, 318, 374, 312, 453, 322,...   \n",
       "landmarks      [318, 374, 1, 425, 381, 1, 516, 359, 1, 312, 4...   \n",
       "\n",
       "                                                           item1  \n",
       "category_name                                   short sleeve top  \n",
       "segmentation   [[422, 21, 423, 93, 385, 128, 307, 95, 284, 48...  \n",
       "landmarks      [344, 40, 1, 284, 48, 2, 307, 95, 2, 385, 128,...  "
      ]
     },
     "execution_count": 7,
     "metadata": {},
     "output_type": "execute_result"
    }
   ],
   "source": [
    "#Read the .json file and take only the category name and the segmentation values.\n",
    "import pandas as pd\n",
    "import os\n",
    "import json\n",
    "filename=\"000305\"\n",
    "df1=pd.read_json (r\"D:\\DCU\\Practicum\\Datasets\\DeepFashion2\\Mask RCNN\\Clothes\\Dataset_generator\\dataset\\train\\annotations\\050305.json\")\n",
    "df1 = df1.loc[ ['category_name','segmentation','landmarks'],:]\n",
    "#Filter out all the unwanted columns and keep only those columns which have the necessary clothing item segment values and the \n",
    "#category names.\n",
    "df=df1.filter(like='item')\n",
    "df\n"
   ]
  },
  {
   "cell_type": "code",
   "execution_count": 19,
   "metadata": {},
   "outputs": [
    {
     "data": {
      "text/plain": [
       "{'item2': {'segmentation': [[353,\n",
       "    214,\n",
       "    383,\n",
       "    206,\n",
       "    407,\n",
       "    206,\n",
       "    423,\n",
       "    237,\n",
       "    442,\n",
       "    285,\n",
       "    402,\n",
       "    293,\n",
       "    352,\n",
       "    299,\n",
       "    348,\n",
       "    254,\n",
       "    353,\n",
       "    214]],\n",
       "  'scale': 1,\n",
       "  'viewpoint': 2,\n",
       "  'zoom_in': 1,\n",
       "  'landmarks': [353,\n",
       "   214,\n",
       "   2,\n",
       "   383,\n",
       "   206,\n",
       "   2,\n",
       "   407,\n",
       "   206,\n",
       "   2,\n",
       "   348,\n",
       "   254,\n",
       "   2,\n",
       "   352,\n",
       "   299,\n",
       "   2,\n",
       "   402,\n",
       "   293,\n",
       "   2,\n",
       "   442,\n",
       "   285,\n",
       "   2,\n",
       "   423,\n",
       "   237,\n",
       "   2],\n",
       "  'style': 0,\n",
       "  'bounding_box': [346, 203, 444, 302],\n",
       "  'category_id': 9,\n",
       "  'occlusion': 1,\n",
       "  'category_name': 'skirt'},\n",
       " 'source': 'shop',\n",
       " 'pair_id': 3963,\n",
       " 'item1': {'segmentation': [[398,\n",
       "    133,\n",
       "    397,\n",
       "    140,\n",
       "    387,\n",
       "    144,\n",
       "    372,\n",
       "    139,\n",
       "    362,\n",
       "    131,\n",
       "    344,\n",
       "    134,\n",
       "    333,\n",
       "    158,\n",
       "    324,\n",
       "    188,\n",
       "    354,\n",
       "    198,\n",
       "    355,\n",
       "    179,\n",
       "    355,\n",
       "    163,\n",
       "    356,\n",
       "    174,\n",
       "    348,\n",
       "    187,\n",
       "    355,\n",
       "    213,\n",
       "    381,\n",
       "    205,\n",
       "    405,\n",
       "    208,\n",
       "    411,\n",
       "    190,\n",
       "    413,\n",
       "    171,\n",
       "    413,\n",
       "    165,\n",
       "    412,\n",
       "    185,\n",
       "    411,\n",
       "    204,\n",
       "    440,\n",
       "    193,\n",
       "    423,\n",
       "    166,\n",
       "    411,\n",
       "    143,\n",
       "    398,\n",
       "    133],\n",
       "   [344, 134, 333, 158, 324, 188, 354, 198, 355, 179, 355, 163, 344, 134],\n",
       "   [413, 165, 412, 185, 411, 204, 440, 193, 423, 166, 411, 143, 413, 165]],\n",
       "  'scale': 1,\n",
       "  'viewpoint': 2,\n",
       "  'zoom_in': 1,\n",
       "  'landmarks': [384,\n",
       "   138,\n",
       "   1,\n",
       "   362,\n",
       "   131,\n",
       "   2,\n",
       "   372,\n",
       "   139,\n",
       "   2,\n",
       "   387,\n",
       "   144,\n",
       "   2,\n",
       "   397,\n",
       "   140,\n",
       "   1,\n",
       "   398,\n",
       "   133,\n",
       "   1,\n",
       "   344,\n",
       "   134,\n",
       "   2,\n",
       "   333,\n",
       "   158,\n",
       "   2,\n",
       "   324,\n",
       "   188,\n",
       "   2,\n",
       "   354,\n",
       "   198,\n",
       "   2,\n",
       "   355,\n",
       "   179,\n",
       "   2,\n",
       "   355,\n",
       "   163,\n",
       "   2,\n",
       "   356,\n",
       "   174,\n",
       "   2,\n",
       "   348,\n",
       "   187,\n",
       "   1,\n",
       "   0,\n",
       "   0,\n",
       "   0,\n",
       "   0,\n",
       "   0,\n",
       "   0,\n",
       "   0,\n",
       "   0,\n",
       "   0,\n",
       "   411,\n",
       "   190,\n",
       "   2,\n",
       "   413,\n",
       "   171,\n",
       "   2,\n",
       "   413,\n",
       "   165,\n",
       "   2,\n",
       "   412,\n",
       "   185,\n",
       "   2,\n",
       "   411,\n",
       "   204,\n",
       "   2,\n",
       "   440,\n",
       "   193,\n",
       "   2,\n",
       "   423,\n",
       "   166,\n",
       "   2,\n",
       "   411,\n",
       "   143,\n",
       "   2],\n",
       "  'style': 2,\n",
       "  'bounding_box': [321, 128, 441, 218],\n",
       "  'category_id': 1,\n",
       "  'occlusion': 1,\n",
       "  'category_name': 'short sleeve top'}}"
      ]
     },
     "execution_count": 19,
     "metadata": {},
     "output_type": "execute_result"
    }
   ],
   "source": [
    "import json\n",
    "\n",
    "with open(r\"D:\\DCU\\Practicum\\Datasets\\DeepFashion2\\Mask RCNN\\Clothes\\Dataset_generator\\dataset\\train\\annotations\\050000.json\") as data_file:\n",
    "    test = json.load(data_file)\n",
    "test "
   ]
  },
  {
   "cell_type": "code",
   "execution_count": null,
   "metadata": {},
   "outputs": [],
   "source": []
  },
  {
   "cell_type": "code",
   "execution_count": 4,
   "metadata": {},
   "outputs": [],
   "source": [
    "n=1#len(df.columns) # count the number of columns"
   ]
  },
  {
   "cell_type": "code",
   "execution_count": 8,
   "metadata": {},
   "outputs": [],
   "source": [
    "\n",
    "def Convert(string): \n",
    "    li = list(string.split(\",\")) \n",
    "    return li \n",
    "\n",
    "if n==1:\n",
    "    cat_name_1=df.iloc[0].iloc[0]\n",
    "    a1=df.iloc[1]\n",
    "    #print(\"Category1:\",cat_name_1)\n",
    "    b1=a1.iloc[0]\n",
    "    c1=str(b1).replace(\"[\", \"\")#strip('[]')\n",
    "    d1=c1.replace(\"]\", \"\")\n",
    "    #print(d1)\n",
    "    e1=Convert(d1)\n",
    "    e1 = [round(float(x)) for x in e1]\n",
    "    #print(e1)\n",
    "    x1= e1[::2] #numbers in even position\n",
    "    y1= e1[1::2] #numbers in odd position\n",
    "    #print(x1,y1)\n",
    "    base=filename+'.jpg'\n",
    "    #print(base)\n",
    "    dict1 = {base: {'filename': base,'regions': [{'shape_attributes': {'name': 'polygon','all_points_x': list(map(int, x1)),\n",
    "                                         'all_points_y': list(map(int, y1))},'region_attributes': {'name': cat_name_1}}]}}\n",
    "    #print(dict1)\n",
    "    with open(filename+'_new.json', 'w') as fp:\n",
    "        json.dump(dict1, fp)\n",
    "       \n",
    "    \n",
    "elif n==2:\n",
    "    cat_name_1=df.iloc[0].iloc[0]\n",
    "    cat_name_2=df.iloc[0].iloc[1]\n",
    "    print(\"Category1:\",cat_name_1,\"\\nCategory2:\",cat_name_2)\n",
    "else:\n",
    "    print(\"N/A\")"
   ]
  },
  {
   "cell_type": "code",
   "execution_count": null,
   "metadata": {},
   "outputs": [],
   "source": []
  },
  {
   "cell_type": "code",
   "execution_count": 3,
   "metadata": {},
   "outputs": [
    {
     "ename": "IndexError",
     "evalue": "single positional indexer is out-of-bounds",
     "output_type": "error",
     "traceback": [
      "\u001b[1;31m---------------------------------------------------------------------------\u001b[0m",
      "\u001b[1;31mIndexError\u001b[0m                                Traceback (most recent call last)",
      "\u001b[1;32m<ipython-input-3-6f88e57dff6c>\u001b[0m in \u001b[0;36m<module>\u001b[1;34m\u001b[0m\n\u001b[0;32m      1\u001b[0m \u001b[0mcat_name_1\u001b[0m\u001b[1;33m=\u001b[0m\u001b[0mdf\u001b[0m\u001b[1;33m.\u001b[0m\u001b[0miloc\u001b[0m\u001b[1;33m[\u001b[0m\u001b[1;36m0\u001b[0m\u001b[1;33m]\u001b[0m\u001b[1;33m.\u001b[0m\u001b[0miloc\u001b[0m\u001b[1;33m[\u001b[0m\u001b[1;36m0\u001b[0m\u001b[1;33m]\u001b[0m\u001b[1;33m\u001b[0m\u001b[1;33m\u001b[0m\u001b[0m\n\u001b[1;32m----> 2\u001b[1;33m \u001b[0mcat_name_2\u001b[0m\u001b[1;33m=\u001b[0m\u001b[0mdf\u001b[0m\u001b[1;33m.\u001b[0m\u001b[0miloc\u001b[0m\u001b[1;33m[\u001b[0m\u001b[1;36m0\u001b[0m\u001b[1;33m]\u001b[0m\u001b[1;33m.\u001b[0m\u001b[0miloc\u001b[0m\u001b[1;33m[\u001b[0m\u001b[1;36m1\u001b[0m\u001b[1;33m]\u001b[0m\u001b[1;33m\u001b[0m\u001b[1;33m\u001b[0m\u001b[0m\n\u001b[0m\u001b[0;32m      3\u001b[0m \u001b[0mprint\u001b[0m\u001b[1;33m(\u001b[0m\u001b[1;34m\"Category1:\"\u001b[0m\u001b[1;33m,\u001b[0m\u001b[0mcat_name_1\u001b[0m\u001b[1;33m,\u001b[0m\u001b[1;34m\"\\nCategory2:\"\u001b[0m\u001b[1;33m,\u001b[0m\u001b[0mcat_name_2\u001b[0m\u001b[1;33m)\u001b[0m\u001b[1;33m\u001b[0m\u001b[1;33m\u001b[0m\u001b[0m\n",
      "\u001b[1;32m~\\Anaconda3\\lib\\site-packages\\pandas\\core\\indexing.py\u001b[0m in \u001b[0;36m__getitem__\u001b[1;34m(self, key)\u001b[0m\n\u001b[0;32m   1498\u001b[0m \u001b[1;33m\u001b[0m\u001b[0m\n\u001b[0;32m   1499\u001b[0m             \u001b[0mmaybe_callable\u001b[0m \u001b[1;33m=\u001b[0m \u001b[0mcom\u001b[0m\u001b[1;33m.\u001b[0m\u001b[0mapply_if_callable\u001b[0m\u001b[1;33m(\u001b[0m\u001b[0mkey\u001b[0m\u001b[1;33m,\u001b[0m \u001b[0mself\u001b[0m\u001b[1;33m.\u001b[0m\u001b[0mobj\u001b[0m\u001b[1;33m)\u001b[0m\u001b[1;33m\u001b[0m\u001b[1;33m\u001b[0m\u001b[0m\n\u001b[1;32m-> 1500\u001b[1;33m             \u001b[1;32mreturn\u001b[0m \u001b[0mself\u001b[0m\u001b[1;33m.\u001b[0m\u001b[0m_getitem_axis\u001b[0m\u001b[1;33m(\u001b[0m\u001b[0mmaybe_callable\u001b[0m\u001b[1;33m,\u001b[0m \u001b[0maxis\u001b[0m\u001b[1;33m=\u001b[0m\u001b[0maxis\u001b[0m\u001b[1;33m)\u001b[0m\u001b[1;33m\u001b[0m\u001b[1;33m\u001b[0m\u001b[0m\n\u001b[0m\u001b[0;32m   1501\u001b[0m \u001b[1;33m\u001b[0m\u001b[0m\n\u001b[0;32m   1502\u001b[0m     \u001b[1;32mdef\u001b[0m \u001b[0m_is_scalar_access\u001b[0m\u001b[1;33m(\u001b[0m\u001b[0mself\u001b[0m\u001b[1;33m,\u001b[0m \u001b[0mkey\u001b[0m\u001b[1;33m)\u001b[0m\u001b[1;33m:\u001b[0m\u001b[1;33m\u001b[0m\u001b[1;33m\u001b[0m\u001b[0m\n",
      "\u001b[1;32m~\\Anaconda3\\lib\\site-packages\\pandas\\core\\indexing.py\u001b[0m in \u001b[0;36m_getitem_axis\u001b[1;34m(self, key, axis)\u001b[0m\n\u001b[0;32m   2228\u001b[0m \u001b[1;33m\u001b[0m\u001b[0m\n\u001b[0;32m   2229\u001b[0m             \u001b[1;31m# validate the location\u001b[0m\u001b[1;33m\u001b[0m\u001b[1;33m\u001b[0m\u001b[1;33m\u001b[0m\u001b[0m\n\u001b[1;32m-> 2230\u001b[1;33m             \u001b[0mself\u001b[0m\u001b[1;33m.\u001b[0m\u001b[0m_validate_integer\u001b[0m\u001b[1;33m(\u001b[0m\u001b[0mkey\u001b[0m\u001b[1;33m,\u001b[0m \u001b[0maxis\u001b[0m\u001b[1;33m)\u001b[0m\u001b[1;33m\u001b[0m\u001b[1;33m\u001b[0m\u001b[0m\n\u001b[0m\u001b[0;32m   2231\u001b[0m \u001b[1;33m\u001b[0m\u001b[0m\n\u001b[0;32m   2232\u001b[0m             \u001b[1;32mreturn\u001b[0m \u001b[0mself\u001b[0m\u001b[1;33m.\u001b[0m\u001b[0m_get_loc\u001b[0m\u001b[1;33m(\u001b[0m\u001b[0mkey\u001b[0m\u001b[1;33m,\u001b[0m \u001b[0maxis\u001b[0m\u001b[1;33m=\u001b[0m\u001b[0maxis\u001b[0m\u001b[1;33m)\u001b[0m\u001b[1;33m\u001b[0m\u001b[1;33m\u001b[0m\u001b[0m\n",
      "\u001b[1;32m~\\Anaconda3\\lib\\site-packages\\pandas\\core\\indexing.py\u001b[0m in \u001b[0;36m_validate_integer\u001b[1;34m(self, key, axis)\u001b[0m\n\u001b[0;32m   2137\u001b[0m         \u001b[0mlen_axis\u001b[0m \u001b[1;33m=\u001b[0m \u001b[0mlen\u001b[0m\u001b[1;33m(\u001b[0m\u001b[0mself\u001b[0m\u001b[1;33m.\u001b[0m\u001b[0mobj\u001b[0m\u001b[1;33m.\u001b[0m\u001b[0m_get_axis\u001b[0m\u001b[1;33m(\u001b[0m\u001b[0maxis\u001b[0m\u001b[1;33m)\u001b[0m\u001b[1;33m)\u001b[0m\u001b[1;33m\u001b[0m\u001b[1;33m\u001b[0m\u001b[0m\n\u001b[0;32m   2138\u001b[0m         \u001b[1;32mif\u001b[0m \u001b[0mkey\u001b[0m \u001b[1;33m>=\u001b[0m \u001b[0mlen_axis\u001b[0m \u001b[1;32mor\u001b[0m \u001b[0mkey\u001b[0m \u001b[1;33m<\u001b[0m \u001b[1;33m-\u001b[0m\u001b[0mlen_axis\u001b[0m\u001b[1;33m:\u001b[0m\u001b[1;33m\u001b[0m\u001b[1;33m\u001b[0m\u001b[0m\n\u001b[1;32m-> 2139\u001b[1;33m             \u001b[1;32mraise\u001b[0m \u001b[0mIndexError\u001b[0m\u001b[1;33m(\u001b[0m\u001b[1;34m\"single positional indexer is out-of-bounds\"\u001b[0m\u001b[1;33m)\u001b[0m\u001b[1;33m\u001b[0m\u001b[1;33m\u001b[0m\u001b[0m\n\u001b[0m\u001b[0;32m   2140\u001b[0m \u001b[1;33m\u001b[0m\u001b[0m\n\u001b[0;32m   2141\u001b[0m     \u001b[1;32mdef\u001b[0m \u001b[0m_getitem_tuple\u001b[0m\u001b[1;33m(\u001b[0m\u001b[0mself\u001b[0m\u001b[1;33m,\u001b[0m \u001b[0mtup\u001b[0m\u001b[1;33m)\u001b[0m\u001b[1;33m:\u001b[0m\u001b[1;33m\u001b[0m\u001b[1;33m\u001b[0m\u001b[0m\n",
      "\u001b[1;31mIndexError\u001b[0m: single positional indexer is out-of-bounds"
     ]
    }
   ],
   "source": [
    "cat_name_1=df.iloc[0].iloc[0]\n",
    "cat_name_2=df.iloc[0].iloc[1]\n",
    "print(\"Category1:\",cat_name_1,\"\\nCategory2:\",cat_name_2)"
   ]
  },
  {
   "cell_type": "code",
   "execution_count": 4,
   "metadata": {},
   "outputs": [
    {
     "data": {
      "text/plain": [
       "item1    [[213.0, 6.0, 243.0, 60.0, 273.0, 99.0, 284.0,...\n",
       "Name: segmentation, dtype: object"
      ]
     },
     "execution_count": 4,
     "metadata": {},
     "output_type": "execute_result"
    }
   ],
   "source": [
    "a=df.iloc[1]\n",
    "a"
   ]
  },
  {
   "cell_type": "code",
   "execution_count": 5,
   "metadata": {},
   "outputs": [
    {
     "ename": "IndexError",
     "evalue": "single positional indexer is out-of-bounds",
     "output_type": "error",
     "traceback": [
      "\u001b[1;31m---------------------------------------------------------------------------\u001b[0m",
      "\u001b[1;31mIndexError\u001b[0m                                Traceback (most recent call last)",
      "\u001b[1;32m<ipython-input-5-b74853b645b4>\u001b[0m in \u001b[0;36m<module>\u001b[1;34m\u001b[0m\n\u001b[0;32m      1\u001b[0m \u001b[0mb1\u001b[0m\u001b[1;33m=\u001b[0m\u001b[0ma\u001b[0m\u001b[1;33m.\u001b[0m\u001b[0miloc\u001b[0m\u001b[1;33m[\u001b[0m\u001b[1;36m0\u001b[0m\u001b[1;33m]\u001b[0m\u001b[1;33m\u001b[0m\u001b[1;33m\u001b[0m\u001b[0m\n\u001b[1;32m----> 2\u001b[1;33m \u001b[0mb2\u001b[0m\u001b[1;33m=\u001b[0m\u001b[0ma\u001b[0m\u001b[1;33m.\u001b[0m\u001b[0miloc\u001b[0m\u001b[1;33m[\u001b[0m\u001b[1;36m1\u001b[0m\u001b[1;33m]\u001b[0m\u001b[1;33m\u001b[0m\u001b[1;33m\u001b[0m\u001b[0m\n\u001b[0m\u001b[0;32m      3\u001b[0m \u001b[0mprint\u001b[0m\u001b[1;33m(\u001b[0m\u001b[0mb1\u001b[0m\u001b[1;33m,\u001b[0m\u001b[1;34m\"\\n\\n\"\u001b[0m\u001b[1;33m,\u001b[0m\u001b[0mb2\u001b[0m\u001b[1;33m)\u001b[0m\u001b[1;33m\u001b[0m\u001b[1;33m\u001b[0m\u001b[0m\n",
      "\u001b[1;32m~\\Anaconda3\\lib\\site-packages\\pandas\\core\\indexing.py\u001b[0m in \u001b[0;36m__getitem__\u001b[1;34m(self, key)\u001b[0m\n\u001b[0;32m   1498\u001b[0m \u001b[1;33m\u001b[0m\u001b[0m\n\u001b[0;32m   1499\u001b[0m             \u001b[0mmaybe_callable\u001b[0m \u001b[1;33m=\u001b[0m \u001b[0mcom\u001b[0m\u001b[1;33m.\u001b[0m\u001b[0mapply_if_callable\u001b[0m\u001b[1;33m(\u001b[0m\u001b[0mkey\u001b[0m\u001b[1;33m,\u001b[0m \u001b[0mself\u001b[0m\u001b[1;33m.\u001b[0m\u001b[0mobj\u001b[0m\u001b[1;33m)\u001b[0m\u001b[1;33m\u001b[0m\u001b[1;33m\u001b[0m\u001b[0m\n\u001b[1;32m-> 1500\u001b[1;33m             \u001b[1;32mreturn\u001b[0m \u001b[0mself\u001b[0m\u001b[1;33m.\u001b[0m\u001b[0m_getitem_axis\u001b[0m\u001b[1;33m(\u001b[0m\u001b[0mmaybe_callable\u001b[0m\u001b[1;33m,\u001b[0m \u001b[0maxis\u001b[0m\u001b[1;33m=\u001b[0m\u001b[0maxis\u001b[0m\u001b[1;33m)\u001b[0m\u001b[1;33m\u001b[0m\u001b[1;33m\u001b[0m\u001b[0m\n\u001b[0m\u001b[0;32m   1501\u001b[0m \u001b[1;33m\u001b[0m\u001b[0m\n\u001b[0;32m   1502\u001b[0m     \u001b[1;32mdef\u001b[0m \u001b[0m_is_scalar_access\u001b[0m\u001b[1;33m(\u001b[0m\u001b[0mself\u001b[0m\u001b[1;33m,\u001b[0m \u001b[0mkey\u001b[0m\u001b[1;33m)\u001b[0m\u001b[1;33m:\u001b[0m\u001b[1;33m\u001b[0m\u001b[1;33m\u001b[0m\u001b[0m\n",
      "\u001b[1;32m~\\Anaconda3\\lib\\site-packages\\pandas\\core\\indexing.py\u001b[0m in \u001b[0;36m_getitem_axis\u001b[1;34m(self, key, axis)\u001b[0m\n\u001b[0;32m   2228\u001b[0m \u001b[1;33m\u001b[0m\u001b[0m\n\u001b[0;32m   2229\u001b[0m             \u001b[1;31m# validate the location\u001b[0m\u001b[1;33m\u001b[0m\u001b[1;33m\u001b[0m\u001b[1;33m\u001b[0m\u001b[0m\n\u001b[1;32m-> 2230\u001b[1;33m             \u001b[0mself\u001b[0m\u001b[1;33m.\u001b[0m\u001b[0m_validate_integer\u001b[0m\u001b[1;33m(\u001b[0m\u001b[0mkey\u001b[0m\u001b[1;33m,\u001b[0m \u001b[0maxis\u001b[0m\u001b[1;33m)\u001b[0m\u001b[1;33m\u001b[0m\u001b[1;33m\u001b[0m\u001b[0m\n\u001b[0m\u001b[0;32m   2231\u001b[0m \u001b[1;33m\u001b[0m\u001b[0m\n\u001b[0;32m   2232\u001b[0m             \u001b[1;32mreturn\u001b[0m \u001b[0mself\u001b[0m\u001b[1;33m.\u001b[0m\u001b[0m_get_loc\u001b[0m\u001b[1;33m(\u001b[0m\u001b[0mkey\u001b[0m\u001b[1;33m,\u001b[0m \u001b[0maxis\u001b[0m\u001b[1;33m=\u001b[0m\u001b[0maxis\u001b[0m\u001b[1;33m)\u001b[0m\u001b[1;33m\u001b[0m\u001b[1;33m\u001b[0m\u001b[0m\n",
      "\u001b[1;32m~\\Anaconda3\\lib\\site-packages\\pandas\\core\\indexing.py\u001b[0m in \u001b[0;36m_validate_integer\u001b[1;34m(self, key, axis)\u001b[0m\n\u001b[0;32m   2137\u001b[0m         \u001b[0mlen_axis\u001b[0m \u001b[1;33m=\u001b[0m \u001b[0mlen\u001b[0m\u001b[1;33m(\u001b[0m\u001b[0mself\u001b[0m\u001b[1;33m.\u001b[0m\u001b[0mobj\u001b[0m\u001b[1;33m.\u001b[0m\u001b[0m_get_axis\u001b[0m\u001b[1;33m(\u001b[0m\u001b[0maxis\u001b[0m\u001b[1;33m)\u001b[0m\u001b[1;33m)\u001b[0m\u001b[1;33m\u001b[0m\u001b[1;33m\u001b[0m\u001b[0m\n\u001b[0;32m   2138\u001b[0m         \u001b[1;32mif\u001b[0m \u001b[0mkey\u001b[0m \u001b[1;33m>=\u001b[0m \u001b[0mlen_axis\u001b[0m \u001b[1;32mor\u001b[0m \u001b[0mkey\u001b[0m \u001b[1;33m<\u001b[0m \u001b[1;33m-\u001b[0m\u001b[0mlen_axis\u001b[0m\u001b[1;33m:\u001b[0m\u001b[1;33m\u001b[0m\u001b[1;33m\u001b[0m\u001b[0m\n\u001b[1;32m-> 2139\u001b[1;33m             \u001b[1;32mraise\u001b[0m \u001b[0mIndexError\u001b[0m\u001b[1;33m(\u001b[0m\u001b[1;34m\"single positional indexer is out-of-bounds\"\u001b[0m\u001b[1;33m)\u001b[0m\u001b[1;33m\u001b[0m\u001b[1;33m\u001b[0m\u001b[0m\n\u001b[0m\u001b[0;32m   2140\u001b[0m \u001b[1;33m\u001b[0m\u001b[0m\n\u001b[0;32m   2141\u001b[0m     \u001b[1;32mdef\u001b[0m \u001b[0m_getitem_tuple\u001b[0m\u001b[1;33m(\u001b[0m\u001b[0mself\u001b[0m\u001b[1;33m,\u001b[0m \u001b[0mtup\u001b[0m\u001b[1;33m)\u001b[0m\u001b[1;33m:\u001b[0m\u001b[1;33m\u001b[0m\u001b[1;33m\u001b[0m\u001b[0m\n",
      "\u001b[1;31mIndexError\u001b[0m: single positional indexer is out-of-bounds"
     ]
    }
   ],
   "source": [
    "b1=a.iloc[0]\n",
    "b2=a.iloc[1]\n",
    "print(b1,\"\\n\\n\",b2)"
   ]
  },
  {
   "cell_type": "code",
   "execution_count": 36,
   "metadata": {},
   "outputs": [
    {
     "name": "stdout",
     "output_type": "stream",
     "text": [
      "117.0, 241.0, 53.0, 225.0, 38.29, 260.15, 35.4, 290.73, 32.9, 343.23, 76.92, 345.23, 108.54, 343.69, 127.54, 352.69, 142.0, 364.0, 170.0, 364.0, 202.0, 338.0, 214.0, 319.0, 222.0, 309.0, 221.0, 302.0, 214.0, 295.0, 210.0, 280.0, 206.0, 268.0, 203.0, 264.0, 202.0, 259.0, 199.0, 252.0, 198.0, 244.0, 198.0, 236.0, 191.0, 229.0, 188.0, 219.0, 182.0, 227.0, 161.0, 238.0, 126.0, 241.0\n"
     ]
    }
   ],
   "source": [
    "c1=str(b1).replace(\"[\", \"\")#strip('[]')\n",
    "d1=c1.replace(\"]\", \"\")\n",
    "print(d1)"
   ]
  },
  {
   "cell_type": "code",
   "execution_count": 37,
   "metadata": {},
   "outputs": [
    {
     "name": "stdout",
     "output_type": "stream",
     "text": [
      "8.0, 2.0, 2.0, 4.0, 0.0, 14.0, 1.0, 48.0, 4.0, 71.0, 27.0, 133.0, 38.0, 162.0, 42.0, 175.0, 53.0, 207.0, 65.0, 236.0, 102.0, 236.0, 122.0, 235.0, 137.58, 235.13, 158.0, 232.0, 181.0, 218.0, 184.0, 202.0, 178.0, 183.0, 177.0, 176.0, 172.0, 159.0, 171.0, 156.0, 172.0, 137.0, 174.0, 127.0, 180.0, 96.0, 142.8, 40.8, 136.8, 39.8, 138.8, 55.0, 151.2, 92.8, 145.2, 106.8, 136.6, 113.6, 119.4, 119.8, 65.8, 118.6, 54.2, 113.6, 51.6, 106.6, 48.4, 99.4, 43.2, 77.2, 43.0, 68.6, 45.2, 53.0, 49.2, 43.6, 57.8, 30.6, 71.4, 18.6, 87.6, 10.2, 87.0, 5.0, 72.0, 8.0, 68.8, 10.0, 57.2, 13.6, 48.8, 22.2, 37.0, 38.0, 33.0, 71.0, 44.0, 122.0, 45.8, 140.6, 36.4, 131.2, 29.2, 118.6, 23.4, 106.6, 18.8, 94.2, 7.2, 63.6, 4.4, 54.6, 0.4, 31.6, 88.4, 4.2, 120.4, 25.0, 127.8, 29.4, 138.09, 35.96, 139.69, 50.72, 141.82, 65.36, 126.8, 40.6, 118.6, 28.8, 106.8, 19.0, 97.8, 14.0, 89.6, 11.0, 83.6, 8.8\n"
     ]
    }
   ],
   "source": [
    "c2=str(b2).replace(\"[\", \"\")#strip('[]')\n",
    "d2=c2.replace(\"]\", \"\")0\n",
    "print(d2)"
   ]
  },
  {
   "cell_type": "code",
   "execution_count": 38,
   "metadata": {},
   "outputs": [
    {
     "name": "stdout",
     "output_type": "stream",
     "text": [
      "['117.0', ' 241.0', ' 53.0', ' 225.0', ' 38.29', ' 260.15', ' 35.4', ' 290.73', ' 32.9', ' 343.23', ' 76.92', ' 345.23', ' 108.54', ' 343.69', ' 127.54', ' 352.69', ' 142.0', ' 364.0', ' 170.0', ' 364.0', ' 202.0', ' 338.0', ' 214.0', ' 319.0', ' 222.0', ' 309.0', ' 221.0', ' 302.0', ' 214.0', ' 295.0', ' 210.0', ' 280.0', ' 206.0', ' 268.0', ' 203.0', ' 264.0', ' 202.0', ' 259.0', ' 199.0', ' 252.0', ' 198.0', ' 244.0', ' 198.0', ' 236.0', ' 191.0', ' 229.0', ' 188.0', ' 219.0', ' 182.0', ' 227.0', ' 161.0', ' 238.0', ' 126.0', ' 241.0'] \n",
      "\n",
      " ['8.0', ' 2.0', ' 2.0', ' 4.0', ' 0.0', ' 14.0', ' 1.0', ' 48.0', ' 4.0', ' 71.0', ' 27.0', ' 133.0', ' 38.0', ' 162.0', ' 42.0', ' 175.0', ' 53.0', ' 207.0', ' 65.0', ' 236.0', ' 102.0', ' 236.0', ' 122.0', ' 235.0', ' 137.58', ' 235.13', ' 158.0', ' 232.0', ' 181.0', ' 218.0', ' 184.0', ' 202.0', ' 178.0', ' 183.0', ' 177.0', ' 176.0', ' 172.0', ' 159.0', ' 171.0', ' 156.0', ' 172.0', ' 137.0', ' 174.0', ' 127.0', ' 180.0', ' 96.0', ' 142.8', ' 40.8', ' 136.8', ' 39.8', ' 138.8', ' 55.0', ' 151.2', ' 92.8', ' 145.2', ' 106.8', ' 136.6', ' 113.6', ' 119.4', ' 119.8', ' 65.8', ' 118.6', ' 54.2', ' 113.6', ' 51.6', ' 106.6', ' 48.4', ' 99.4', ' 43.2', ' 77.2', ' 43.0', ' 68.6', ' 45.2', ' 53.0', ' 49.2', ' 43.6', ' 57.8', ' 30.6', ' 71.4', ' 18.6', ' 87.6', ' 10.2', ' 87.0', ' 5.0', ' 72.0', ' 8.0', ' 68.8', ' 10.0', ' 57.2', ' 13.6', ' 48.8', ' 22.2', ' 37.0', ' 38.0', ' 33.0', ' 71.0', ' 44.0', ' 122.0', ' 45.8', ' 140.6', ' 36.4', ' 131.2', ' 29.2', ' 118.6', ' 23.4', ' 106.6', ' 18.8', ' 94.2', ' 7.2', ' 63.6', ' 4.4', ' 54.6', ' 0.4', ' 31.6', ' 88.4', ' 4.2', ' 120.4', ' 25.0', ' 127.8', ' 29.4', ' 138.09', ' 35.96', ' 139.69', ' 50.72', ' 141.82', ' 65.36', ' 126.8', ' 40.6', ' 118.6', ' 28.8', ' 106.8', ' 19.0', ' 97.8', ' 14.0', ' 89.6', ' 11.0', ' 83.6', ' 8.8']\n"
     ]
    }
   ],
   "source": [
    "def Convert(string): \n",
    "    li = list(string.split(\",\")) \n",
    "    return li \n",
    "  \n",
    "# Driver code   \n",
    "e1=Convert(d1)\n",
    "e2=Convert(d2)\n",
    "print(e1,\"\\n\\n\",e2)"
   ]
  },
  {
   "cell_type": "code",
   "execution_count": 39,
   "metadata": {},
   "outputs": [],
   "source": [
    "#e1 = [round(float(x)) for x in e1]\n",
    "#e2 = [round(float(x)) for x in e2]\n",
    "e1=[float(i) for i in e1]\n",
    "e1=list(map(int,e1))"
   ]
  },
  {
   "cell_type": "code",
   "execution_count": 40,
   "metadata": {},
   "outputs": [
    {
     "name": "stdout",
     "output_type": "stream",
     "text": [
      "[117, 241, 53, 225, 38, 260, 35, 290, 32, 343, 76, 345, 108, 343, 127, 352, 142, 364, 170, 364, 202, 338, 214, 319, 222, 309, 221, 302, 214, 295, 210, 280, 206, 268, 203, 264, 202, 259, 199, 252, 198, 244, 198, 236, 191, 229, 188, 219, 182, 227, 161, 238, 126, 241]\n"
     ]
    }
   ],
   "source": [
    "print(e1)"
   ]
  },
  {
   "cell_type": "code",
   "execution_count": 41,
   "metadata": {},
   "outputs": [],
   "source": [
    "e2=[float(i) for i in e2]\n",
    "e2=list(map(int,e2))"
   ]
  },
  {
   "cell_type": "code",
   "execution_count": 42,
   "metadata": {},
   "outputs": [
    {
     "name": "stdout",
     "output_type": "stream",
     "text": [
      "[8, 2, 2, 4, 0, 14, 1, 48, 4, 71, 27, 133, 38, 162, 42, 175, 53, 207, 65, 236, 102, 236, 122, 235, 137, 235, 158, 232, 181, 218, 184, 202, 178, 183, 177, 176, 172, 159, 171, 156, 172, 137, 174, 127, 180, 96, 142, 40, 136, 39, 138, 55, 151, 92, 145, 106, 136, 113, 119, 119, 65, 118, 54, 113, 51, 106, 48, 99, 43, 77, 43, 68, 45, 53, 49, 43, 57, 30, 71, 18, 87, 10, 87, 5, 72, 8, 68, 10, 57, 13, 48, 22, 37, 38, 33, 71, 44, 122, 45, 140, 36, 131, 29, 118, 23, 106, 18, 94, 7, 63, 4, 54, 0, 31, 88, 4, 120, 25, 127, 29, 138, 35, 139, 50, 141, 65, 126, 40, 118, 28, 106, 19, 97, 14, 89, 11, 83, 8]\n"
     ]
    }
   ],
   "source": [
    "print(e2)"
   ]
  },
  {
   "cell_type": "code",
   "execution_count": 13,
   "metadata": {},
   "outputs": [
    {
     "ename": "AttributeError",
     "evalue": "'list' object has no attribute 'shape'",
     "output_type": "error",
     "traceback": [
      "\u001b[1;31m---------------------------------------------------------------------------\u001b[0m",
      "\u001b[1;31mAttributeError\u001b[0m                            Traceback (most recent call last)",
      "\u001b[1;32m<ipython-input-13-a815a564851d>\u001b[0m in \u001b[0;36m<module>\u001b[1;34m\u001b[0m\n\u001b[1;32m----> 1\u001b[1;33m \u001b[0me1\u001b[0m\u001b[1;33m.\u001b[0m\u001b[0mshape\u001b[0m\u001b[1;33m\u001b[0m\u001b[1;33m\u001b[0m\u001b[0m\n\u001b[0m",
      "\u001b[1;31mAttributeError\u001b[0m: 'list' object has no attribute 'shape'"
     ]
    }
   ],
   "source": [
    "e1.shape"
   ]
  },
  {
   "cell_type": "code",
   "execution_count": 43,
   "metadata": {},
   "outputs": [
    {
     "name": "stdout",
     "output_type": "stream",
     "text": [
      "[117, 53, 38, 35, 32, 76, 108, 127, 142, 170, 202, 214, 222, 221, 214, 210, 206, 203, 202, 199, 198, 198, 191, 188, 182, 161, 126] [241, 225, 260, 290, 343, 345, 343, 352, 364, 364, 338, 319, 309, 302, 295, 280, 268, 264, 259, 252, 244, 236, 229, 219, 227, 238, 241] \n",
      " Len x1= 27 Len y1= 27\n",
      "\n",
      "\n",
      " [8, 2, 0, 1, 4, 27, 38, 42, 53, 65, 102, 122, 137, 158, 181, 184, 178, 177, 172, 171, 172, 174, 180, 142, 136, 138, 151, 145, 136, 119, 65, 54, 51, 48, 43, 43, 45, 49, 57, 71, 87, 87, 72, 68, 57, 48, 37, 33, 44, 45, 36, 29, 23, 18, 7, 4, 0, 88, 120, 127, 138, 139, 141, 126, 118, 106, 97, 89, 83] [2, 4, 14, 48, 71, 133, 162, 175, 207, 236, 236, 235, 235, 232, 218, 202, 183, 176, 159, 156, 137, 127, 96, 40, 39, 55, 92, 106, 113, 119, 118, 113, 106, 99, 77, 68, 53, 43, 30, 18, 10, 5, 8, 10, 13, 22, 38, 71, 122, 140, 131, 118, 106, 94, 63, 54, 31, 4, 25, 29, 35, 50, 65, 40, 28, 19, 14, 11, 8] \n",
      " Len x2= 69 Len y2= 69\n"
     ]
    }
   ],
   "source": [
    "x1= e1[::2] #numbers in even position\n",
    "y1= e1[1::2] #numbers in odd position\n",
    "\n",
    "x2= e2[::2] #numbers in even position\n",
    "y2= e2[1::2] #numbers in odd position\n",
    "\n",
    "# Print e,x and y to check the values. Use len(x) to check the length----->print(x,y,\"\\n Len x=\",len(x),\"Len y=\",len(y))\n",
    "print(x1,y1,\"\\n Len x1=\",len(x1),\"Len y1=\",len(y1))\n",
    "print(\"\\n\\n\",x2,y2,\"\\n Len x2=\",len(x2),\"Len y2=\",len(y2))"
   ]
  },
  {
   "cell_type": "code",
   "execution_count": null,
   "metadata": {},
   "outputs": [],
   "source": []
  },
  {
   "cell_type": "code",
   "execution_count": 18,
   "metadata": {},
   "outputs": [
    {
     "data": {
      "text/plain": [
       "'003848.jpg'"
      ]
     },
     "execution_count": 18,
     "metadata": {},
     "output_type": "execute_result"
    }
   ],
   "source": [
    "import os\n",
    "base=os.path.basename(r'003848.jpg')\n",
    "base"
   ]
  },
  {
   "cell_type": "code",
   "execution_count": null,
   "metadata": {},
   "outputs": [],
   "source": [
    "dict1 = {base: {'filename': base,\n",
    "  \n",
    "  'regions': [{'shape_attributes': {'name': 'polygon',\n",
    "     'all_points_x': list(map(int, x)),\n",
    "     'all_points_y': list(map(int, y))},\n",
    "    'region_attributes': {'name': cat_name_1}}]}}"
   ]
  },
  {
   "cell_type": "code",
   "execution_count": 33,
   "metadata": {},
   "outputs": [
    {
     "ename": "NameError",
     "evalue": "name 'x' is not defined",
     "output_type": "error",
     "traceback": [
      "\u001b[1;31m---------------------------------------------------------------------------\u001b[0m",
      "\u001b[1;31mNameError\u001b[0m                                 Traceback (most recent call last)",
      "\u001b[1;32m<ipython-input-33-bfb36779e541>\u001b[0m in \u001b[0;36m<module>\u001b[1;34m\u001b[0m\n\u001b[0;32m      2\u001b[0m \u001b[1;33m\u001b[0m\u001b[0m\n\u001b[0;32m      3\u001b[0m   'regions': [{'shape_attributes': {'name': 'polygon',\n\u001b[1;32m----> 4\u001b[1;33m      \u001b[1;34m'all_points_x'\u001b[0m\u001b[1;33m:\u001b[0m \u001b[0mlist\u001b[0m\u001b[1;33m(\u001b[0m\u001b[0mmap\u001b[0m\u001b[1;33m(\u001b[0m\u001b[0mint\u001b[0m\u001b[1;33m,\u001b[0m \u001b[0mx\u001b[0m\u001b[1;33m)\u001b[0m\u001b[1;33m)\u001b[0m\u001b[1;33m,\u001b[0m\u001b[1;33m\u001b[0m\u001b[1;33m\u001b[0m\u001b[0m\n\u001b[0m\u001b[0;32m      5\u001b[0m      'all_points_y': list(map(int, y))},\n\u001b[0;32m      6\u001b[0m     'region_attributes': {'name': cat_name_1}}]}\n",
      "\u001b[1;31mNameError\u001b[0m: name 'x' is not defined"
     ]
    }
   ],
   "source": [
    "dict1 =  {'filename': base,\n",
    "  \n",
    "  'regions': [{'shape_attributes': {'name': 'polygon',\n",
    "     'all_points_x': list(map(int, x)),\n",
    "     'all_points_y': list(map(int, y))},\n",
    "    'region_attributes': {'name': cat_name_1}}]}"
   ]
  },
  {
   "cell_type": "code",
   "execution_count": 45,
   "metadata": {},
   "outputs": [
    {
     "name": "stdout",
     "output_type": "stream",
     "text": [
      "{'003848.jpg': {'filename': '003848.jpg', 'regions': [{'shape_attributes': {'name': 'polygon', 'all_points_x': [117, 53, 38, 35, 32, 76, 108, 127, 142, 170, 202, 214, 222, 221, 214, 210, 206, 203, 202, 199, 198, 198, 191, 188, 182, 161, 126], 'all_points_y': [241, 225, 260, 290, 343, 345, 343, 352, 364, 364, 338, 319, 309, 302, 295, 280, 268, 264, 259, 252, 244, 236, 229, 219, 227, 238, 241]}, 'region_attributes': {'name': 'shorts'}}, {'shape_attributes': {'name': 'polygon', 'all_points_x': [8, 2, 0, 1, 4, 27, 38, 42, 53, 65, 102, 122, 137, 158, 181, 184, 178, 177, 172, 171, 172, 174, 180, 142, 136, 138, 151, 145, 136, 119, 65, 54, 51, 48, 43, 43, 45, 49, 57, 71, 87, 87, 72, 68, 57, 48, 37, 33, 44, 45, 36, 29, 23, 18, 7, 4, 0, 88, 120, 127, 138, 139, 141, 126, 118, 106, 97, 89, 83], 'all_points_y': [2, 4, 14, 48, 71, 133, 162, 175, 207, 236, 236, 235, 235, 232, 218, 202, 183, 176, 159, 156, 137, 127, 96, 40, 39, 55, 92, 106, 113, 119, 118, 113, 106, 99, 77, 68, 53, 43, 30, 18, 10, 5, 8, 10, 13, 22, 38, 71, 122, 140, 131, 118, 106, 94, 63, 54, 31, 4, 25, 29, 35, 50, 65, 40, 28, 19, 14, 11, 8]}, 'region_attributes': {'name': 'vest'}}]}}\n"
     ]
    }
   ],
   "source": [
    "print(dict1)"
   ]
  },
  {
   "cell_type": "code",
   "execution_count": 10,
   "metadata": {},
   "outputs": [
    {
     "data": {
      "text/plain": [
       "'D:\\\\DCU\\\\Practicum\\\\Datasets\\\\DeepFashion2\\\\JSON_EDIT\\\\New'"
      ]
     },
     "execution_count": 10,
     "metadata": {},
     "output_type": "execute_result"
    }
   ],
   "source": [
    "pwd"
   ]
  },
  {
   "cell_type": "code",
   "execution_count": 36,
   "metadata": {},
   "outputs": [],
   "source": [
    "import json\n",
    "#%cd D:\\DCU\\Practicum\\Datasets\\DeepFashion2\\JSON_EDIT\\New #destination folder\n",
    "with open(filename+'_new.json', 'w') as fp:\n",
    "    json.dump(dict1, fp)\n",
    "#%cd ..#source folder"
   ]
  },
  {
   "cell_type": "code",
   "execution_count": null,
   "metadata": {},
   "outputs": [],
   "source": [
    "pwd"
   ]
  },
  {
   "cell_type": "code",
   "execution_count": 44,
   "metadata": {},
   "outputs": [],
   "source": [
    "dict1 = {base: {'filename': base,'regions': [{'shape_attributes': {'name': 'polygon','all_points_x': list(map(int, x1)),\n",
    "                                         'all_points_y': list(map(int, y1))},'region_attributes': {'name': cat_name_1}},\n",
    "                                            {'shape_attributes': {'name': 'polygon','all_points_x': list(map(int, x2)),\n",
    "                                         'all_points_y': list(map(int, y2))},'region_attributes': {'name': cat_name_2}}]}}"
   ]
  },
  {
   "cell_type": "code",
   "execution_count": 34,
   "metadata": {},
   "outputs": [],
   "source": [
    "dict1 = {'filename': base,'regions': [{'shape_attributes': {'name': 'polygon','all_points_x': list(map(int, x1)),\n",
    "                                         'all_points_y': list(map(int, y1))},'region_attributes': {'name': cat_name_1}},\n",
    "                                            {'shape_attributes': {'name': 'polygon','all_points_x': list(map(int, x2)),\n",
    "                                         'all_points_y': list(map(int, y2))},'region_attributes': {'name': cat_name_2}}]}"
   ]
  },
  {
   "cell_type": "code",
   "execution_count": 18,
   "metadata": {},
   "outputs": [
    {
     "name": "stdout",
     "output_type": "stream",
     "text": [
      " Volume in drive D is Study\n",
      " Volume Serial Number is 16C4-DB1E\n",
      "\n",
      " Directory of D:\\DCU\\Practicum\\Datasets\\DeepFashion2\\JSON_EDIT\\New\n",
      "\n",
      "06-06-2020  14:01    <DIR>          .\n",
      "06-06-2020  14:01    <DIR>          ..\n",
      "06-06-2020  12:25            59,337 037535.jpg\n",
      "06-06-2020  12:55             2,028 037535.json\n",
      "06-06-2020  13:59               507 037535_new.json\n",
      "06-06-2020  12:25            34,630 044040.jpg\n",
      "06-06-2020  12:55             1,522 044040.json\n",
      "06-06-2020  12:25            49,447 063577.jpg\n",
      "06-06-2020  12:55               814 063577.json\n",
      "06-06-2020  12:25            76,771 104686.jpg\n",
      "06-06-2020  12:55             1,055 104686.json\n",
      "06-06-2020  12:25            46,449 142974.jpg\n",
      "06-06-2020  12:55               749 142974.json\n",
      "06-06-2020  13:51    <DIR>          New\n",
      "06-06-2020  13:35               863 via_region_data.json\n",
      "              12 File(s)        274,172 bytes\n",
      "               3 Dir(s)  413,836,541,952 bytes free\n"
     ]
    }
   ],
   "source": [
    "%ls"
   ]
  },
  {
   "cell_type": "code",
   "execution_count": 19,
   "metadata": {},
   "outputs": [],
   "source": [
    "import json\n",
    "\n",
    "with open('via_region_data.json') as data_file:\n",
    "    test = json.load(data_file)"
   ]
  },
  {
   "cell_type": "code",
   "execution_count": 21,
   "metadata": {},
   "outputs": [
    {
     "data": {
      "text/plain": [
       "{'000035.jpg51287': {'filename': '000035.jpg',\n",
       "  'size': 51287,\n",
       "  'regions': [{'shape_attributes': {'name': 'polygon',\n",
       "     'all_points_x': [207, 273, 342, 433, 465, 423, 348, 330, 306, 234, 183],\n",
       "     'all_points_y': [156, 174, 163, 138, 340, 367, 364, 354, 366, 372, 348]},\n",
       "    'region_attributes': {'name': 'shorts\\n',\n",
       "     'type': 'unknown',\n",
       "     'image_quality': {'good': True,\n",
       "      'frontal': True,\n",
       "      'good_illumination': True}}}],\n",
       "  'file_attributes': {'caption': '', 'public_domain': 'no', 'image_url': ''}},\n",
       " '000179.jpg47904': {'filename': '000179.jpg',\n",
       "  'size': 47904,\n",
       "  'regions': [{'shape_attributes': {'name': 'polygon',\n",
       "     'all_points_x': [152,\n",
       "      232,\n",
       "      335,\n",
       "      388,\n",
       "      393,\n",
       "      397,\n",
       "      431,\n",
       "      319,\n",
       "      216,\n",
       "      125,\n",
       "      27,\n",
       "      72,\n",
       "      83],\n",
       "     'all_points_y': [59,\n",
       "      91,\n",
       "      45,\n",
       "      107,\n",
       "      261,\n",
       "      447,\n",
       "      623,\n",
       "      623,\n",
       "      309,\n",
       "      612,\n",
       "      608,\n",
       "      252,\n",
       "      105]},\n",
       "    'region_attributes': {'name': 'pant\\n',\n",
       "     'type': 'unknown',\n",
       "     'image_quality': {'good': True,\n",
       "      'frontal': True,\n",
       "      'good_illumination': True}}}],\n",
       "  'file_attributes': {'caption': '', 'public_domain': 'no', 'image_url': ''}}}"
      ]
     },
     "execution_count": 21,
     "metadata": {},
     "output_type": "execute_result"
    }
   ],
   "source": [
    "test"
   ]
  },
  {
   "cell_type": "code",
   "execution_count": 22,
   "metadata": {},
   "outputs": [],
   "source": [
    "import json\n",
    "\n",
    "with open('037535_new.json') as data_file:\n",
    "    test = json.load(data_file)"
   ]
  },
  {
   "cell_type": "code",
   "execution_count": 23,
   "metadata": {},
   "outputs": [
    {
     "data": {
      "text/plain": [
       "{'037535.jpg': {'filename': '037535.jpg',\n",
       "  'regions': [{'shape_attributes': {'name': 'polygon',\n",
       "     'all_points_x': [405,\n",
       "      331,\n",
       "      261,\n",
       "      254,\n",
       "      275,\n",
       "      285,\n",
       "      311,\n",
       "      321,\n",
       "      324,\n",
       "      330,\n",
       "      325,\n",
       "      350,\n",
       "      375,\n",
       "      394,\n",
       "      405,\n",
       "      331,\n",
       "      261,\n",
       "      254,\n",
       "      275,\n",
       "      285,\n",
       "      311,\n",
       "      321,\n",
       "      324,\n",
       "      331,\n",
       "      405,\n",
       "      331,\n",
       "      324,\n",
       "      330,\n",
       "      325,\n",
       "      350,\n",
       "      375,\n",
       "      394,\n",
       "      405],\n",
       "     'all_points_y': [180,\n",
       "      176,\n",
       "      171,\n",
       "      268,\n",
       "      377,\n",
       "      521,\n",
       "      518,\n",
       "      374,\n",
       "      266,\n",
       "      374,\n",
       "      523,\n",
       "      529,\n",
       "      369,\n",
       "      271,\n",
       "      180,\n",
       "      176,\n",
       "      171,\n",
       "      268,\n",
       "      377,\n",
       "      521,\n",
       "      518,\n",
       "      374,\n",
       "      266,\n",
       "      176,\n",
       "      180,\n",
       "      176,\n",
       "      266,\n",
       "      374,\n",
       "      523,\n",
       "      529,\n",
       "      369,\n",
       "      271,\n",
       "      180]},\n",
       "    'region_attributes': {'name': 'trousers'}}]}}"
      ]
     },
     "execution_count": 23,
     "metadata": {},
     "output_type": "execute_result"
    }
   ],
   "source": [
    "test"
   ]
  },
  {
   "cell_type": "code",
   "execution_count": 62,
   "metadata": {},
   "outputs": [
    {
     "ename": "ValueError",
     "evalue": "Expected object or value",
     "output_type": "error",
     "traceback": [
      "\u001b[1;31m---------------------------------------------------------------------------\u001b[0m",
      "\u001b[1;31mValueError\u001b[0m                                Traceback (most recent call last)",
      "\u001b[1;32m<ipython-input-62-f2bf15331a77>\u001b[0m in \u001b[0;36m<module>\u001b[1;34m\u001b[0m\n\u001b[0;32m      4\u001b[0m \u001b[1;32mimport\u001b[0m \u001b[0mjson\u001b[0m\u001b[1;33m\u001b[0m\u001b[1;33m\u001b[0m\u001b[0m\n\u001b[0;32m      5\u001b[0m \u001b[0mfilename\u001b[0m\u001b[1;33m=\u001b[0m\u001b[1;34m\"000305\"\u001b[0m\u001b[1;33m\u001b[0m\u001b[1;33m\u001b[0m\u001b[0m\n\u001b[1;32m----> 6\u001b[1;33m \u001b[0mdf1\u001b[0m\u001b[1;33m=\u001b[0m\u001b[0mpd\u001b[0m\u001b[1;33m.\u001b[0m\u001b[0mread_json\u001b[0m \u001b[1;33m(\u001b[0m\u001b[1;34mr\"D:\\DCU\\Practicum\\Datasets\\DeepFashion2\\Mask RCNN\\Clothes\\main5\\dataset\\val\\annotations\\000305.json\"\u001b[0m\u001b[1;33m)\u001b[0m\u001b[1;33m\u001b[0m\u001b[1;33m\u001b[0m\u001b[0m\n\u001b[0m\u001b[0;32m      7\u001b[0m \u001b[0mdf1\u001b[0m \u001b[1;33m=\u001b[0m \u001b[0mdf1\u001b[0m\u001b[1;33m.\u001b[0m\u001b[0mloc\u001b[0m\u001b[1;33m[\u001b[0m \u001b[1;33m[\u001b[0m\u001b[1;34m'category_name'\u001b[0m\u001b[1;33m,\u001b[0m\u001b[1;34m'segmentation'\u001b[0m\u001b[1;33m]\u001b[0m\u001b[1;33m,\u001b[0m\u001b[1;33m:\u001b[0m\u001b[1;33m]\u001b[0m\u001b[1;33m\u001b[0m\u001b[1;33m\u001b[0m\u001b[0m\n\u001b[0;32m      8\u001b[0m \u001b[1;31m#Filter out all the unwanted columns and keep only those columns which have the necessary clothing item segment values and the\u001b[0m\u001b[1;33m\u001b[0m\u001b[1;33m\u001b[0m\u001b[1;33m\u001b[0m\u001b[0m\n",
      "\u001b[1;32m~\\Anaconda3\\lib\\site-packages\\pandas\\io\\json\\json.py\u001b[0m in \u001b[0;36mread_json\u001b[1;34m(path_or_buf, orient, typ, dtype, convert_axes, convert_dates, keep_default_dates, numpy, precise_float, date_unit, encoding, lines, chunksize, compression)\u001b[0m\n\u001b[0;32m    425\u001b[0m         \u001b[1;32mreturn\u001b[0m \u001b[0mjson_reader\u001b[0m\u001b[1;33m\u001b[0m\u001b[1;33m\u001b[0m\u001b[0m\n\u001b[0;32m    426\u001b[0m \u001b[1;33m\u001b[0m\u001b[0m\n\u001b[1;32m--> 427\u001b[1;33m     \u001b[0mresult\u001b[0m \u001b[1;33m=\u001b[0m \u001b[0mjson_reader\u001b[0m\u001b[1;33m.\u001b[0m\u001b[0mread\u001b[0m\u001b[1;33m(\u001b[0m\u001b[1;33m)\u001b[0m\u001b[1;33m\u001b[0m\u001b[1;33m\u001b[0m\u001b[0m\n\u001b[0m\u001b[0;32m    428\u001b[0m     \u001b[1;32mif\u001b[0m \u001b[0mshould_close\u001b[0m\u001b[1;33m:\u001b[0m\u001b[1;33m\u001b[0m\u001b[1;33m\u001b[0m\u001b[0m\n\u001b[0;32m    429\u001b[0m         \u001b[1;32mtry\u001b[0m\u001b[1;33m:\u001b[0m\u001b[1;33m\u001b[0m\u001b[1;33m\u001b[0m\u001b[0m\n",
      "\u001b[1;32m~\\Anaconda3\\lib\\site-packages\\pandas\\io\\json\\json.py\u001b[0m in \u001b[0;36mread\u001b[1;34m(self)\u001b[0m\n\u001b[0;32m    535\u001b[0m             )\n\u001b[0;32m    536\u001b[0m         \u001b[1;32melse\u001b[0m\u001b[1;33m:\u001b[0m\u001b[1;33m\u001b[0m\u001b[1;33m\u001b[0m\u001b[0m\n\u001b[1;32m--> 537\u001b[1;33m             \u001b[0mobj\u001b[0m \u001b[1;33m=\u001b[0m \u001b[0mself\u001b[0m\u001b[1;33m.\u001b[0m\u001b[0m_get_object_parser\u001b[0m\u001b[1;33m(\u001b[0m\u001b[0mself\u001b[0m\u001b[1;33m.\u001b[0m\u001b[0mdata\u001b[0m\u001b[1;33m)\u001b[0m\u001b[1;33m\u001b[0m\u001b[1;33m\u001b[0m\u001b[0m\n\u001b[0m\u001b[0;32m    538\u001b[0m         \u001b[0mself\u001b[0m\u001b[1;33m.\u001b[0m\u001b[0mclose\u001b[0m\u001b[1;33m(\u001b[0m\u001b[1;33m)\u001b[0m\u001b[1;33m\u001b[0m\u001b[1;33m\u001b[0m\u001b[0m\n\u001b[0;32m    539\u001b[0m         \u001b[1;32mreturn\u001b[0m \u001b[0mobj\u001b[0m\u001b[1;33m\u001b[0m\u001b[1;33m\u001b[0m\u001b[0m\n",
      "\u001b[1;32m~\\Anaconda3\\lib\\site-packages\\pandas\\io\\json\\json.py\u001b[0m in \u001b[0;36m_get_object_parser\u001b[1;34m(self, json)\u001b[0m\n\u001b[0;32m    554\u001b[0m         \u001b[0mobj\u001b[0m \u001b[1;33m=\u001b[0m \u001b[1;32mNone\u001b[0m\u001b[1;33m\u001b[0m\u001b[1;33m\u001b[0m\u001b[0m\n\u001b[0;32m    555\u001b[0m         \u001b[1;32mif\u001b[0m \u001b[0mtyp\u001b[0m \u001b[1;33m==\u001b[0m \u001b[1;34m'frame'\u001b[0m\u001b[1;33m:\u001b[0m\u001b[1;33m\u001b[0m\u001b[1;33m\u001b[0m\u001b[0m\n\u001b[1;32m--> 556\u001b[1;33m             \u001b[0mobj\u001b[0m \u001b[1;33m=\u001b[0m \u001b[0mFrameParser\u001b[0m\u001b[1;33m(\u001b[0m\u001b[0mjson\u001b[0m\u001b[1;33m,\u001b[0m \u001b[1;33m**\u001b[0m\u001b[0mkwargs\u001b[0m\u001b[1;33m)\u001b[0m\u001b[1;33m.\u001b[0m\u001b[0mparse\u001b[0m\u001b[1;33m(\u001b[0m\u001b[1;33m)\u001b[0m\u001b[1;33m\u001b[0m\u001b[1;33m\u001b[0m\u001b[0m\n\u001b[0m\u001b[0;32m    557\u001b[0m \u001b[1;33m\u001b[0m\u001b[0m\n\u001b[0;32m    558\u001b[0m         \u001b[1;32mif\u001b[0m \u001b[0mtyp\u001b[0m \u001b[1;33m==\u001b[0m \u001b[1;34m'series'\u001b[0m \u001b[1;32mor\u001b[0m \u001b[0mobj\u001b[0m \u001b[1;32mis\u001b[0m \u001b[1;32mNone\u001b[0m\u001b[1;33m:\u001b[0m\u001b[1;33m\u001b[0m\u001b[1;33m\u001b[0m\u001b[0m\n",
      "\u001b[1;32m~\\Anaconda3\\lib\\site-packages\\pandas\\io\\json\\json.py\u001b[0m in \u001b[0;36mparse\u001b[1;34m(self)\u001b[0m\n\u001b[0;32m    650\u001b[0m \u001b[1;33m\u001b[0m\u001b[0m\n\u001b[0;32m    651\u001b[0m         \u001b[1;32melse\u001b[0m\u001b[1;33m:\u001b[0m\u001b[1;33m\u001b[0m\u001b[1;33m\u001b[0m\u001b[0m\n\u001b[1;32m--> 652\u001b[1;33m             \u001b[0mself\u001b[0m\u001b[1;33m.\u001b[0m\u001b[0m_parse_no_numpy\u001b[0m\u001b[1;33m(\u001b[0m\u001b[1;33m)\u001b[0m\u001b[1;33m\u001b[0m\u001b[1;33m\u001b[0m\u001b[0m\n\u001b[0m\u001b[0;32m    653\u001b[0m \u001b[1;33m\u001b[0m\u001b[0m\n\u001b[0;32m    654\u001b[0m         \u001b[1;32mif\u001b[0m \u001b[0mself\u001b[0m\u001b[1;33m.\u001b[0m\u001b[0mobj\u001b[0m \u001b[1;32mis\u001b[0m \u001b[1;32mNone\u001b[0m\u001b[1;33m:\u001b[0m\u001b[1;33m\u001b[0m\u001b[1;33m\u001b[0m\u001b[0m\n",
      "\u001b[1;32m~\\Anaconda3\\lib\\site-packages\\pandas\\io\\json\\json.py\u001b[0m in \u001b[0;36m_parse_no_numpy\u001b[1;34m(self)\u001b[0m\n\u001b[0;32m    869\u001b[0m         \u001b[1;32mif\u001b[0m \u001b[0morient\u001b[0m \u001b[1;33m==\u001b[0m \u001b[1;34m\"columns\"\u001b[0m\u001b[1;33m:\u001b[0m\u001b[1;33m\u001b[0m\u001b[1;33m\u001b[0m\u001b[0m\n\u001b[0;32m    870\u001b[0m             self.obj = DataFrame(\n\u001b[1;32m--> 871\u001b[1;33m                 loads(json, precise_float=self.precise_float), dtype=None)\n\u001b[0m\u001b[0;32m    872\u001b[0m         \u001b[1;32melif\u001b[0m \u001b[0morient\u001b[0m \u001b[1;33m==\u001b[0m \u001b[1;34m\"split\"\u001b[0m\u001b[1;33m:\u001b[0m\u001b[1;33m\u001b[0m\u001b[1;33m\u001b[0m\u001b[0m\n\u001b[0;32m    873\u001b[0m             decoded = {str(k): v for k, v in compat.iteritems(\n",
      "\u001b[1;31mValueError\u001b[0m: Expected object or value"
     ]
    }
   ],
   "source": [
    "#Read the .json file and take only the category name and the segmentation values.\n",
    "import pandas as pd\n",
    "import os\n",
    "import json\n",
    "filename=\"000305\"\n",
    "df1=pd.read_json (r\"D:\\DCU\\Practicum\\Datasets\\DeepFashion2\\Mask RCNN\\Clothes\\main5\\dataset\\val\\annotations\\000305.json\")\n",
    "df1 = df1.loc[ ['category_name','segmentation'],:]\n",
    "#Filter out all the unwanted columns and keep only those columns which have the necessary clothing item segment values and the \n",
    "#category names.\n",
    "df=df1.filter(like='item')\n",
    "df"
   ]
  },
  {
   "cell_type": "code",
   "execution_count": 6,
   "metadata": {},
   "outputs": [],
   "source": [
    "def Convert(string): \n",
    "    li = list(string.split(\",\")) \n",
    "    return li\n",
    "\n",
    "cat_name_1=df.iloc[0].iloc[0]#1st category\n",
    "cat_name_2=df.iloc[0].iloc[1]#2nd category\n",
    "cat_name_3=df.iloc[0].iloc[2]#3nd category\n",
    "#print(\"Category1:\",cat_name_1,\"\\nCategory2:\",cat_name_2)\n",
    "a=df.iloc[1]\n",
    "\n",
    "b1=a.iloc[0]\n",
    "b2=a.iloc[1]\n",
    "b3=a.iloc[2]\n",
    "\n",
    "c1=str(b1).replace(\"[\", \"\")#strip('[]')\n",
    "d1=c1.replace(\"]\", \"\")\n",
    "c2=str(b2).replace(\"[\", \"\")#strip('[]')\n",
    "d2=c2.replace(\"]\", \"\")\n",
    "c3=str(b3).replace(\"[\", \"\")#strip('[]')\n",
    "d3=c3.replace(\"]\", \"\")\n",
    "\n",
    "e1=Convert(d1)\n",
    "e2=Convert(d2)\n",
    "e3=Convert(d3)\n",
    "\n",
    "e1 = [round(float(x)) for x in e1]\n",
    "e2 = [round(float(x)) for x in e2]\n",
    "e3 = [round(float(x)) for x in e3]\n",
    "\n",
    "x1= e1[::2]\n",
    "y1= e1[1::2] \n",
    "x2= e2[::2]\n",
    "y2= e2[1::2]\n",
    "x3= e3[::2]\n",
    "y3= e3[1::2]\n",
    "\n",
    "base=filename+'.jpg'\n",
    "dict1 = {'filename': base,'regions': [{'shape_attributes': {'name': 'polygon','all_points_x': list(map(int, x1)),\n",
    "                                     'all_points_y': list(map(int, y1))},'region_attributes': {'name': cat_name_1}},\n",
    "\n",
    "                                      {'shape_attributes': {'name': 'polygon','all_points_x': list(map(int, x2)),\n",
    "                                     'all_points_y': list(map(int, y2))},'region_attributes': {'name': cat_name_2}},\n",
    "\n",
    "                                      {'shape_attributes': {'name': 'polygon','all_points_x': list(map(int, x3)),\n",
    "                                    'all_points_y': list(map(int, y3))},'region_attributes': {'name': cat_name_3}}]}"
   ]
  },
  {
   "cell_type": "code",
   "execution_count": 7,
   "metadata": {},
   "outputs": [
    {
     "data": {
      "text/plain": [
       "{'filename': '040216.jpg',\n",
       " 'regions': [{'shape_attributes': {'name': 'polygon',\n",
       "    'all_points_x': [299, 363, 436, 444, 444, 354, 268, 281, 299],\n",
       "    'all_points_y': [648, 652, 656, 712, 773, 776, 738, 692, 648]},\n",
       "   'region_attributes': {'name': 'skirt'}},\n",
       "  {'shape_attributes': {'name': 'polygon',\n",
       "    'all_points_x': [432,\n",
       "     414,\n",
       "     392,\n",
       "     367,\n",
       "     365,\n",
       "     359,\n",
       "     331,\n",
       "     314,\n",
       "     310,\n",
       "     329,\n",
       "     347,\n",
       "     308,\n",
       "     283,\n",
       "     266,\n",
       "     290,\n",
       "     316,\n",
       "     314,\n",
       "     297,\n",
       "     281,\n",
       "     355,\n",
       "     429,\n",
       "     437,\n",
       "     442,\n",
       "     445,\n",
       "     441,\n",
       "     441,\n",
       "     443,\n",
       "     447,\n",
       "     485,\n",
       "     486,\n",
       "     482,\n",
       "     478,\n",
       "     471,\n",
       "     440,\n",
       "     432,\n",
       "     331,\n",
       "     314,\n",
       "     310,\n",
       "     329,\n",
       "     347,\n",
       "     308,\n",
       "     283,\n",
       "     266,\n",
       "     290,\n",
       "     316,\n",
       "     331,\n",
       "     445,\n",
       "     441,\n",
       "     441,\n",
       "     443,\n",
       "     447,\n",
       "     485,\n",
       "     486,\n",
       "     482,\n",
       "     478,\n",
       "     471,\n",
       "     445,\n",
       "     310,\n",
       "     329,\n",
       "     347,\n",
       "     308,\n",
       "     283,\n",
       "     266,\n",
       "     310,\n",
       "     441,\n",
       "     443,\n",
       "     447,\n",
       "     485,\n",
       "     486,\n",
       "     482,\n",
       "     441],\n",
       "    'all_points_y': [461,\n",
       "     472,\n",
       "     480,\n",
       "     471,\n",
       "     456,\n",
       "     457,\n",
       "     469,\n",
       "     487,\n",
       "     513,\n",
       "     482,\n",
       "     442,\n",
       "     427,\n",
       "     470,\n",
       "     525,\n",
       "     538,\n",
       "     530,\n",
       "     541,\n",
       "     594,\n",
       "     648,\n",
       "     662,\n",
       "     677,\n",
       "     615,\n",
       "     566,\n",
       "     551,\n",
       "     582,\n",
       "     624,\n",
       "     667,\n",
       "     708,\n",
       "     708,\n",
       "     667,\n",
       "     623,\n",
       "     561,\n",
       "     491,\n",
       "     465,\n",
       "     461,\n",
       "     469,\n",
       "     487,\n",
       "     513,\n",
       "     482,\n",
       "     442,\n",
       "     427,\n",
       "     470,\n",
       "     525,\n",
       "     538,\n",
       "     530,\n",
       "     469,\n",
       "     551,\n",
       "     582,\n",
       "     624,\n",
       "     667,\n",
       "     708,\n",
       "     708,\n",
       "     667,\n",
       "     623,\n",
       "     561,\n",
       "     491,\n",
       "     551,\n",
       "     513,\n",
       "     482,\n",
       "     442,\n",
       "     427,\n",
       "     470,\n",
       "     525,\n",
       "     513,\n",
       "     624,\n",
       "     667,\n",
       "     708,\n",
       "     708,\n",
       "     667,\n",
       "     623,\n",
       "     624]},\n",
       "   'region_attributes': {'name': 'long sleeve top'}},\n",
       "  {'shape_attributes': {'name': 'polygon',\n",
       "    'all_points_x': [422,\n",
       "     358,\n",
       "     300,\n",
       "     301,\n",
       "     323,\n",
       "     327,\n",
       "     354,\n",
       "     362,\n",
       "     365,\n",
       "     352,\n",
       "     347,\n",
       "     371,\n",
       "     399,\n",
       "     416,\n",
       "     422,\n",
       "     358,\n",
       "     300,\n",
       "     301,\n",
       "     323,\n",
       "     327,\n",
       "     354,\n",
       "     362,\n",
       "     365,\n",
       "     358,\n",
       "     422,\n",
       "     358,\n",
       "     365,\n",
       "     352,\n",
       "     347,\n",
       "     371,\n",
       "     399,\n",
       "     416,\n",
       "     422],\n",
       "    'all_points_y': [652,\n",
       "     647,\n",
       "     647,\n",
       "     743,\n",
       "     853,\n",
       "     1021,\n",
       "     1017,\n",
       "     854,\n",
       "     726,\n",
       "     850,\n",
       "     967,\n",
       "     966,\n",
       "     852,\n",
       "     752,\n",
       "     652,\n",
       "     647,\n",
       "     647,\n",
       "     743,\n",
       "     853,\n",
       "     1021,\n",
       "     1017,\n",
       "     854,\n",
       "     726,\n",
       "     647,\n",
       "     652,\n",
       "     647,\n",
       "     726,\n",
       "     850,\n",
       "     967,\n",
       "     966,\n",
       "     852,\n",
       "     752,\n",
       "     652]},\n",
       "   'region_attributes': {'name': 'trousers'}}]}"
      ]
     },
     "execution_count": 7,
     "metadata": {},
     "output_type": "execute_result"
    }
   ],
   "source": [
    "dict1"
   ]
  },
  {
   "cell_type": "code",
   "execution_count": 66,
   "metadata": {},
   "outputs": [],
   "source": [
    "df1=pd.read_json (r\"D:\\DCU\\Practicum\\Datasets\\DeepFashion2\\Mask RCNN\\Clothes\\Dataset_generator\\dataset\\val\\annotations\\000305.json\")\n",
    "df1 = df1.loc[ ['category_name','segmentation'],:]\n",
    "    #Filter out all the unwanted columns and keep only those columns which have the necessary clothing item segment values and the \n",
    "    #category names.\n",
    "df=df1.filter(like='item')"
   ]
  },
  {
   "cell_type": "code",
   "execution_count": 67,
   "metadata": {},
   "outputs": [
    {
     "name": "stdout",
     "output_type": "stream",
     "text": [
      "width:   468\n",
      "height:  624\n"
     ]
    }
   ],
   "source": [
    "import cv2\n",
    "\n",
    "im = cv2.imread(r\"D:\\DCU\\Practicum\\Datasets\\DeepFashion2\\Mask RCNN\\Clothes\\Dataset_generator\\dataset\\val\\000305.jpg\")\n",
    "h, w, c = im.shape\n",
    "print('width:  ', w)\n",
    "print('height: ', h)\n"
   ]
  },
  {
   "cell_type": "code",
   "execution_count": 68,
   "metadata": {},
   "outputs": [
    {
     "name": "stdout",
     "output_type": "stream",
     "text": [
      "Category1: short sleeve top\n"
     ]
    }
   ],
   "source": [
    "cat_name_1=df.iloc[0].iloc[0] #1st category\n",
    "print(\"Category1:\",cat_name_1)"
   ]
  },
  {
   "cell_type": "code",
   "execution_count": 69,
   "metadata": {},
   "outputs": [
    {
     "name": "stdout",
     "output_type": "stream",
     "text": [
      "item1    [[219.23, 41.36, 186.97, 32.26, 162.15, 25.65,...\n",
      "Name: segmentation, dtype: object\n"
     ]
    }
   ],
   "source": [
    "a1=df.iloc[1]\n",
    "print(a1)"
   ]
  },
  {
   "cell_type": "code",
   "execution_count": 70,
   "metadata": {},
   "outputs": [
    {
     "name": "stdout",
     "output_type": "stream",
     "text": [
      "[[219.23, 41.36, 186.97, 32.26, 162.15, 25.65, 145.6, 28.95, 116.46, 29.78, 89.05, 21.0, 69.56, 17.09, 53.06, 9.82, 33.09, 4.85, 2.48, 1.65, 3.31, 31.44, 4.96, 71.15, 2.48, 120.78, 2.09, 139.42, 4.14, 156.36, 8.88, 163.73, 12.16, 187.65, 6.62, 215.81, 0.8300000000000001, 234.12, 1.65, 355.73, 1.4100000000000001, 430.94, 2.48, 501.34, 14.06, 530.29, 85.21, 551.79, 207.64, 601.44, 274.66, 574.14, 321.79, 584.42, 380.65, 610.48, 409.5, 617.15, 441.77, 608.88, 460.79, 605.57, 467.41, 598.95, 469.07, 549.32, 467.42, 415.29, 466.84, 284.68, 461.16, 247.51, 427.13, 201.97, 407.85, 182.68, 415.62, 144.54, 393.3, 127.54, 349.94, 119.13, 336.81, 102.48, 317.68, 97.33, 310.07, 70.98, 296.17, 53.77, 275.49, 43.85, 257.28, 37.23, 249.84, 52.12, 231.64, 45.5]]\n"
     ]
    }
   ],
   "source": [
    "b1=a1.iloc[0]\n",
    "print(b1)"
   ]
  },
  {
   "cell_type": "code",
   "execution_count": 71,
   "metadata": {},
   "outputs": [
    {
     "name": "stdout",
     "output_type": "stream",
     "text": [
      "219.23, 41.36, 186.97, 32.26, 162.15, 25.65, 145.6, 28.95, 116.46, 29.78, 89.05, 21.0, 69.56, 17.09, 53.06, 9.82, 33.09, 4.85, 2.48, 1.65, 3.31, 31.44, 4.96, 71.15, 2.48, 120.78, 2.09, 139.42, 4.14, 156.36, 8.88, 163.73, 12.16, 187.65, 6.62, 215.81, 0.8300000000000001, 234.12, 1.65, 355.73, 1.4100000000000001, 430.94, 2.48, 501.34, 14.06, 530.29, 85.21, 551.79, 207.64, 601.44, 274.66, 574.14, 321.79, 584.42, 380.65, 610.48, 409.5, 617.15, 441.77, 608.88, 460.79, 605.57, 467.41, 598.95, 469.07, 549.32, 467.42, 415.29, 466.84, 284.68, 461.16, 247.51, 427.13, 201.97, 407.85, 182.68, 415.62, 144.54, 393.3, 127.54, 349.94, 119.13, 336.81, 102.48, 317.68, 97.33, 310.07, 70.98, 296.17, 53.77, 275.49, 43.85, 257.28, 37.23, 249.84, 52.12, 231.64, 45.5\n"
     ]
    }
   ],
   "source": [
    "c1=str(b1).replace(\"[\", \"\")#strip('[]')\n",
    "d1=c1.replace(\"]\", \"\")\n",
    "print(d1)"
   ]
  },
  {
   "cell_type": "code",
   "execution_count": 72,
   "metadata": {},
   "outputs": [
    {
     "name": "stdout",
     "output_type": "stream",
     "text": [
      "[219, 41, 187, 32, 162, 26, 146, 29, 116, 30, 89, 21, 70, 17, 53, 10, 33, 5, 2, 2, 3, 31, 5, 71, 2, 121, 2, 139, 4, 156, 9, 164, 12, 188, 7, 216, 1, 234, 2, 356, 1, 431, 2, 501, 14, 530, 85, 552, 208, 601, 275, 574, 322, 584, 381, 610, 410, 617, 442, 609, 461, 606, 467, 599, 469, 549, 467, 415, 467, 285, 461, 248, 427, 202, 408, 183, 416, 145, 393, 128, 350, 119, 337, 102, 318, 97, 310, 71, 296, 54, 275, 44, 257, 37, 250, 52, 232, 46]\n"
     ]
    }
   ],
   "source": [
    "def Convert(string): \n",
    "    li = list(string.split(\",\")) \n",
    "    return li\n",
    "\n",
    "e1=Convert(d1)\n",
    "e1=[round(float(x)) for x in e1]\n",
    "#e1=list(map(int,e1))\n",
    "print(e1)"
   ]
  },
  {
   "cell_type": "code",
   "execution_count": 73,
   "metadata": {},
   "outputs": [
    {
     "name": "stdout",
     "output_type": "stream",
     "text": [
      "x1\n",
      " [219, 187, 162, 146, 116, 89, 70, 53, 33, 2, 3, 5, 2, 2, 4, 9, 12, 7, 1, 2, 1, 2, 14, 85, 208, 275, 322, 381, 410, 442, 461, 467, 469, 467, 467, 461, 427, 408, 416, 393, 350, 337, 318, 310, 296, 275, 257, 250, 232]\n",
      "y1\n",
      " [41, 32, 26, 29, 30, 21, 17, 10, 5, 2, 31, 71, 121, 139, 156, 164, 188, 216, 234, 356, 431, 501, 530, 552, 601, 574, 584, 610, 617, 609, 606, 599, 549, 415, 285, 248, 202, 183, 145, 128, 119, 102, 97, 71, 54, 44, 37, 52, 46]\n"
     ]
    }
   ],
   "source": [
    "\n",
    "x1= e1[::2] #numbers in even position\n",
    "y1= e1[1::2] #numbers in odd position\n",
    "print(\"x1\\n\",x1)\n",
    "print(\"y1\\n\",y1)\n",
    "\n"
   ]
  },
  {
   "cell_type": "code",
   "execution_count": 74,
   "metadata": {},
   "outputs": [
    {
     "name": "stdout",
     "output_type": "stream",
     "text": [
      "x1\n",
      " [219, 187, 162, 146, 116, 89, 70, 53, 33, 2, 3, 5, 2, 2, 4, 9, 12, 7, 1, 2, 1, 2, 14, 85, 208, 275, 322, 381, 410, 442, 461, 467, 467, 467, 467, 461, 427, 408, 416, 393, 350, 337, 318, 310, 296, 275, 257, 250, 232]\n",
      "y1\n",
      " [41, 32, 26, 29, 30, 21, 17, 10, 5, 2, 31, 71, 121, 139, 156, 164, 188, 216, 234, 356, 431, 501, 530, 552, 601, 574, 584, 610, 617, 609, 606, 599, 549, 415, 285, 248, 202, 183, 145, 128, 119, 102, 97, 71, 54, 44, 37, 52, 46]\n"
     ]
    }
   ],
   "source": [
    "x1 = [w-1 if i>=w else i for i in x1]\n",
    "y1 = [h-1 if i>=h else i for i in y1]\n",
    "print(\"x1\\n\",x1)\n",
    "print(\"y1\\n\",y1)"
   ]
  },
  {
   "cell_type": "code",
   "execution_count": 75,
   "metadata": {},
   "outputs": [
    {
     "name": "stdout",
     "output_type": "stream",
     "text": [
      "/Image 000001\n",
      "width:   468\n",
      "height:  624\n",
      "I'm here now.\n",
      "/Image 000002\n",
      "width:   468\n",
      "height:  624\n",
      "I'm here now.\n",
      "/Image 000003\n",
      "width:   468\n",
      "height:  628\n",
      "/Image 000004\n",
      "width:   468\n",
      "height:  632\n",
      "/Image 000005\n",
      "width:   468\n",
      "height:  624\n",
      "/Image 000006\n",
      "width:   468\n",
      "height:  624\n",
      "/Image 000007\n",
      "width:   468\n",
      "height:  624\n",
      "/Image 000008\n",
      "width:   225\n",
      "height:  400\n",
      "/Image 000009\n",
      "width:   468\n",
      "height:  624\n",
      "/Image 000010\n",
      "width:   468\n",
      "height:  624\n",
      "I'm here now.\n",
      "/Image 000011\n",
      "width:   468\n",
      "height:  624\n",
      "/Image 000012\n",
      "width:   468\n",
      "height:  830\n",
      "/Image 000013\n",
      "width:   468\n",
      "height:  830\n",
      "/Image 000014\n",
      "width:   468\n",
      "height:  832\n",
      "/Image 000015\n",
      "width:   468\n",
      "height:  351\n",
      "I'm here now.\n",
      "/Image 000016\n",
      "width:   468\n",
      "height:  832\n",
      "/Image 000017\n",
      "width:   468\n",
      "height:  830\n",
      "/Image 000018\n",
      "width:   468\n",
      "height:  351\n",
      "/Image 000019\n",
      "width:   468\n",
      "height:  624\n",
      "/Image 000020\n",
      "width:   468\n",
      "height:  830\n",
      "I'm here now.\n",
      "/Image 000021\n",
      "width:   468\n",
      "height:  624\n",
      "/Image 000022\n",
      "width:   468\n",
      "height:  624\n",
      "/Image 000023\n",
      "width:   468\n",
      "height:  831\n",
      "/Image 000024\n",
      "width:   468\n",
      "height:  624\n",
      "I'm here now.\n",
      "/Image 000025\n",
      "width:   400\n",
      "height:  400\n",
      "/Image 000026\n",
      "width:   300\n",
      "height:  400\n",
      "/Image 000027\n",
      "width:   624\n",
      "height:  468\n",
      "/Image 000028\n",
      "width:   468\n",
      "height:  351\n",
      "/Image 000029\n",
      "width:   832\n",
      "height:  468\n",
      "/Image 000030\n",
      "width:   468\n",
      "height:  625\n",
      "I'm here now.\n",
      "/Image 000031\n",
      "width:   468\n",
      "height:  625\n",
      "/Image 000032\n",
      "width:   468\n",
      "height:  351\n",
      "/Image 000033\n",
      "width:   468\n",
      "height:  624\n",
      "/Image 000034\n",
      "width:   468\n",
      "height:  832\n",
      "/Image 000035\n",
      "width:   468\n",
      "height:  624\n",
      "I'm here now.\n",
      "/Image 000036\n",
      "width:   468\n",
      "height:  832\n",
      "I'm here now.\n",
      "/Image 000037\n",
      "width:   468\n",
      "height:  624\n",
      "/Image 000038\n",
      "width:   468\n",
      "height:  631\n",
      "/Image 000039\n",
      "width:   468\n",
      "height:  832\n",
      "/Image 000040\n",
      "width:   468\n",
      "height:  832\n",
      "/Image 000041\n",
      "width:   468\n",
      "height:  624\n",
      "/Image 000042\n",
      "width:   468\n",
      "height:  262\n",
      "/Image 000043\n",
      "width:   468\n",
      "height:  624\n",
      "/Image 000044\n",
      "width:   468\n",
      "height:  262\n",
      "/Image 000045\n",
      "width:   468\n",
      "height:  624\n",
      "I'm here now.\n",
      "/Image 000046\n",
      "width:   468\n",
      "height:  624\n",
      "/Image 000047\n",
      "width:   346\n",
      "height:  468\n",
      "/Image 000048\n",
      "width:   349\n",
      "height:  468\n",
      "/Image 000049\n",
      "width:   468\n",
      "height:  624\n",
      "I'm here now.\n",
      "/Image 000050\n",
      "width:   468\n",
      "height:  624\n",
      "I'm here now.\n",
      "/Image 000051\n",
      "width:   468\n",
      "height:  624\n",
      "I'm here now.\n",
      "/Image 000052\n",
      "width:   468\n",
      "height:  263\n",
      "I'm here now.\n",
      "/Image 000053\n",
      "width:   468\n",
      "height:  831\n",
      "I'm here now.\n",
      "/Image 000054\n",
      "width:   468\n",
      "height:  624\n",
      "/Image 000055\n",
      "width:   468\n",
      "height:  702\n",
      "I'm here now.\n",
      "/Image 000056\n",
      "width:   468\n",
      "height:  469\n",
      "/Image 000057\n",
      "width:   351\n",
      "height:  468\n",
      "/Image 000058\n",
      "width:   468\n",
      "height:  624\n",
      "/Image 000059\n",
      "width:   468\n",
      "height:  624\n",
      "I'm here now.\n",
      "/Image 000060\n",
      "width:   468\n",
      "height:  624\n",
      "I'm here now.\n",
      "/Image 000061\n",
      "width:   468\n",
      "height:  624\n",
      "/Image 000062\n",
      "width:   624\n",
      "height:  468\n",
      "/Image 000063\n",
      "width:   468\n",
      "height:  624\n",
      "/Image 000064\n",
      "width:   468\n",
      "height:  624\n",
      "/Image 000065\n",
      "width:   300\n",
      "height:  400\n",
      "/Image 000066\n",
      "width:   468\n",
      "height:  830\n",
      "I'm here now.\n",
      "/Image 000067\n",
      "width:   468\n",
      "height:  631\n",
      "I'm here now.\n",
      "/Image 000068\n",
      "width:   468\n",
      "height:  624\n",
      "I'm here now.\n",
      "/Image 000069\n",
      "width:   468\n",
      "height:  624\n",
      "I'm here now.\n",
      "/Image 000070\n",
      "width:   468\n",
      "height:  624\n",
      "I'm here now.\n",
      "/Image 000071\n",
      "width:   468\n",
      "height:  624\n",
      "I'm here now.\n",
      "/Image 000072\n",
      "width:   468\n",
      "height:  624\n",
      "I'm here now.\n",
      "/Image 000073\n",
      "width:   468\n",
      "height:  624\n",
      "I'm here now.\n",
      "/Image 000074\n",
      "width:   468\n",
      "height:  832\n",
      "I'm here now.\n",
      "/Image 000075\n",
      "width:   468\n",
      "height:  624\n",
      "I'm here now.\n",
      "/Image 000076\n",
      "width:   468\n",
      "height:  832\n",
      "I'm here now.\n",
      "/Image 000077\n",
      "width:   468\n",
      "height:  624\n",
      "I'm here now.\n",
      "/Image 000078\n",
      "width:   468\n",
      "height:  624\n",
      "I'm here now.\n",
      "/Image 000079\n",
      "width:   468\n",
      "height:  625\n",
      "/Image 000080\n",
      "width:   468\n",
      "height:  830\n",
      "/Image 000081\n",
      "width:   468\n",
      "height:  631\n",
      "/Image 000082\n",
      "width:   468\n",
      "height:  624\n",
      "/Image 000083\n",
      "width:   468\n",
      "height:  631\n",
      "I'm here now.\n",
      "/Image 000084\n",
      "width:   468\n",
      "height:  624\n",
      "/Image 000085\n",
      "width:   468\n",
      "height:  830\n",
      "/Image 000086\n",
      "width:   468\n",
      "height:  832\n",
      "/Image 000087\n",
      "width:   468\n",
      "height:  624\n",
      "I'm here now.\n",
      "/Image 000088\n",
      "width:   468\n",
      "height:  624\n",
      "I'm here now.\n",
      "/Image 000089\n",
      "width:   468\n",
      "height:  624\n",
      "/Image 000090\n",
      "width:   468\n",
      "height:  831\n",
      "/Image 000091\n",
      "width:   468\n",
      "height:  625\n",
      "/Image 000092\n",
      "width:   468\n",
      "height:  624\n",
      "/Image 000093\n",
      "width:   624\n",
      "height:  468\n",
      "I'm here now.\n",
      "/Image 000094\n",
      "width:   360\n",
      "height:  480\n",
      "/Image 000095\n",
      "width:   468\n",
      "height:  624\n",
      "/Image 000096\n",
      "width:   468\n",
      "height:  624\n",
      "I'm here now.\n",
      "/Image 000097\n",
      "width:   468\n",
      "height:  832\n",
      "/Image 000098\n",
      "width:   351\n",
      "height:  468\n",
      "/Image 000099\n",
      "width:   468\n",
      "height:  624\n",
      "/Image 000100\n",
      "width:   468\n",
      "height:  346\n",
      "/Image 000305\n",
      "width:   468\n",
      "height:  624\n"
     ]
    }
   ],
   "source": [
    "import glob\n",
    "import pandas as pd\n",
    "import os\n",
    "import json\n",
    "import cv2\n",
    "for filepath in glob.iglob(r'D:\\DCU\\Practicum\\Datasets\\DeepFashion2\\Mask RCNN\\Clothes\\Dataset_generator\\dataset\\val\\annotations\\*.json', recursive=True):\n",
    "    \n",
    "    src1=filepath[-11:]#Select the last 11 characters(image json name)\n",
    "    sep = '.'\n",
    "    filename = src1.split(sep, 1)[0]\n",
    "    df1=pd.read_json(filepath)\n",
    "    \n",
    "    #print(filename)\n",
    "    for filepath in glob.iglob(r'D:\\DCU\\Practicum\\Datasets\\DeepFashion2\\Mask RCNN\\Clothes\\Dataset_generator\\dataset\\val\\*.jpg', recursive=True):\n",
    "        src2=filepath[-10:]#Select the last 10 characters(image name)\n",
    "        sep = '.'\n",
    "        filename1 = src2.split(sep, 1)[0]\n",
    "        #print(src2)\n",
    "        if(filename==filename1):\n",
    "            print(\"/Image\",filename1)\n",
    "            #im = cv2.imread(open(src2))\n",
    "            im = cv2.imread(filepath)\n",
    "            #print(im)\n",
    "            h, w, c = im.shape\n",
    "            print('width:  ', w)\n",
    "            print('height: ', h)\n",
    "    \n",
    "    \n",
    "    df1 = df1.loc[ ['category_name','segmentation'],:]\n",
    "    #Filter out all the unwanted columns and keep only those columns which have the necessary clothing item segment values and the \n",
    "    #category names.\n",
    "    df=df1.filter(like='item')\n",
    "    n=len(df.columns) \n",
    "    if n==1:\n",
    "        cat_name_1=df.iloc[0].iloc[0] #1st category\n",
    "        #print(\"Category1:\",cat_name_1)\n",
    "        a1=df.iloc[1]\n",
    "        \n",
    "        b1=a1.iloc[0]\n",
    "        \n",
    "        c1=str(b1).replace(\"[\", \"\")#strip('[]')\n",
    "        \n",
    "        d1=c1.replace(\"]\", \"\")\n",
    "        \n",
    "        e1=Convert(d1)\n",
    "        e1=[float(i) for i in e1]\n",
    "        e1=list(map(int,e1))\n",
    "        \n",
    "        x1= e1[::2] #numbers in even position\n",
    "        y1= e1[1::2] #numbers in odd position\n",
    "        \n",
    "        x1 = [w-1 if i>=w else i for i in x1]\n",
    "        y1 = [h-1 if i>=h else i for i in y1]\n",
    "        \n",
    "        base=filename+'.jpg'\n",
    "        dict1 =  {'filename': base,'regions': [{'shape_attributes': {'name': 'polygon','all_points_x': list(map(int, x1)),\n",
    "                                             'all_points_y': list(map(int, y1))},'region_attributes': {'name': cat_name_1}}]}\n",
    "    else : print(\"I'm here now.\")"
   ]
  },
  {
   "cell_type": "code",
   "execution_count": 59,
   "metadata": {},
   "outputs": [
    {
     "data": {
      "text/plain": [
       "{'filename': '000305.jpg',\n",
       " 'regions': [{'shape_attributes': {'name': 'polygon',\n",
       "    'all_points_x': [219,\n",
       "     186,\n",
       "     162,\n",
       "     145,\n",
       "     116,\n",
       "     89,\n",
       "     69,\n",
       "     53,\n",
       "     33,\n",
       "     2,\n",
       "     3,\n",
       "     4,\n",
       "     2,\n",
       "     2,\n",
       "     4,\n",
       "     8,\n",
       "     12,\n",
       "     6,\n",
       "     0,\n",
       "     1,\n",
       "     1,\n",
       "     2,\n",
       "     14,\n",
       "     85,\n",
       "     207,\n",
       "     274,\n",
       "     321,\n",
       "     380,\n",
       "     409,\n",
       "     441,\n",
       "     460,\n",
       "     467,\n",
       "     469,\n",
       "     467,\n",
       "     466,\n",
       "     461,\n",
       "     427,\n",
       "     407,\n",
       "     415,\n",
       "     393,\n",
       "     349,\n",
       "     336,\n",
       "     317,\n",
       "     310,\n",
       "     296,\n",
       "     275,\n",
       "     257,\n",
       "     249,\n",
       "     231],\n",
       "    'all_points_y': [41,\n",
       "     32,\n",
       "     25,\n",
       "     28,\n",
       "     29,\n",
       "     21,\n",
       "     17,\n",
       "     9,\n",
       "     4,\n",
       "     1,\n",
       "     31,\n",
       "     71,\n",
       "     120,\n",
       "     139,\n",
       "     156,\n",
       "     163,\n",
       "     187,\n",
       "     215,\n",
       "     234,\n",
       "     355,\n",
       "     430,\n",
       "     501,\n",
       "     530,\n",
       "     551,\n",
       "     601,\n",
       "     574,\n",
       "     584,\n",
       "     610,\n",
       "     617,\n",
       "     608,\n",
       "     605,\n",
       "     598,\n",
       "     549,\n",
       "     415,\n",
       "     284,\n",
       "     247,\n",
       "     201,\n",
       "     182,\n",
       "     144,\n",
       "     127,\n",
       "     119,\n",
       "     102,\n",
       "     97,\n",
       "     70,\n",
       "     53,\n",
       "     43,\n",
       "     37,\n",
       "     52,\n",
       "     45]},\n",
       "   'region_attributes': {'name': 'short sleeve top'}}]}"
      ]
     },
     "execution_count": 59,
     "metadata": {},
     "output_type": "execute_result"
    }
   ],
   "source": [
    "dict1"
   ]
  },
  {
   "cell_type": "code",
   "execution_count": 76,
   "metadata": {},
   "outputs": [
    {
     "data": {
      "text/plain": [
       "{'filename': '000305.jpg',\n",
       " 'regions': [{'shape_attributes': {'name': 'polygon',\n",
       "    'all_points_x': [219,\n",
       "     186,\n",
       "     162,\n",
       "     145,\n",
       "     116,\n",
       "     89,\n",
       "     69,\n",
       "     53,\n",
       "     33,\n",
       "     2,\n",
       "     3,\n",
       "     4,\n",
       "     2,\n",
       "     2,\n",
       "     4,\n",
       "     8,\n",
       "     12,\n",
       "     6,\n",
       "     0,\n",
       "     1,\n",
       "     1,\n",
       "     2,\n",
       "     14,\n",
       "     85,\n",
       "     207,\n",
       "     274,\n",
       "     321,\n",
       "     380,\n",
       "     409,\n",
       "     441,\n",
       "     460,\n",
       "     467,\n",
       "     467,\n",
       "     467,\n",
       "     466,\n",
       "     461,\n",
       "     427,\n",
       "     407,\n",
       "     415,\n",
       "     393,\n",
       "     349,\n",
       "     336,\n",
       "     317,\n",
       "     310,\n",
       "     296,\n",
       "     275,\n",
       "     257,\n",
       "     249,\n",
       "     231],\n",
       "    'all_points_y': [41,\n",
       "     32,\n",
       "     25,\n",
       "     28,\n",
       "     29,\n",
       "     21,\n",
       "     17,\n",
       "     9,\n",
       "     4,\n",
       "     1,\n",
       "     31,\n",
       "     71,\n",
       "     120,\n",
       "     139,\n",
       "     156,\n",
       "     163,\n",
       "     187,\n",
       "     215,\n",
       "     234,\n",
       "     355,\n",
       "     430,\n",
       "     501,\n",
       "     530,\n",
       "     551,\n",
       "     601,\n",
       "     574,\n",
       "     584,\n",
       "     610,\n",
       "     617,\n",
       "     608,\n",
       "     605,\n",
       "     598,\n",
       "     549,\n",
       "     415,\n",
       "     284,\n",
       "     247,\n",
       "     201,\n",
       "     182,\n",
       "     144,\n",
       "     127,\n",
       "     119,\n",
       "     102,\n",
       "     97,\n",
       "     70,\n",
       "     53,\n",
       "     43,\n",
       "     37,\n",
       "     52,\n",
       "     45]},\n",
       "   'region_attributes': {'name': 'short sleeve top'}}]}"
      ]
     },
     "execution_count": 76,
     "metadata": {},
     "output_type": "execute_result"
    }
   ],
   "source": [
    "dict1"
   ]
  }
 ],
 "metadata": {
  "kernelspec": {
   "display_name": "Python 3",
   "language": "python",
   "name": "python3"
  },
  "language_info": {
   "codemirror_mode": {
    "name": "ipython",
    "version": 3
   },
   "file_extension": ".py",
   "mimetype": "text/x-python",
   "name": "python",
   "nbconvert_exporter": "python",
   "pygments_lexer": "ipython3",
   "version": "3.7.3"
  }
 },
 "nbformat": 4,
 "nbformat_minor": 2
}

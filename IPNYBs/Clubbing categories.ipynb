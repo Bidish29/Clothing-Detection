{
 "cells": [
  {
   "cell_type": "code",
   "execution_count": 9,
   "metadata": {},
   "outputs": [
    {
     "name": "stdout",
     "output_type": "stream",
     "text": [
      "D:\\DCU\\Practicum\\Datasets\\DeepFashion2\\Mask RCNN\\Clothes\\Dataset Splits\\Shorts\\dataset\\train\\Archive\n"
     ]
    }
   ],
   "source": [
    "%cd D:\\DCU\\Practicum\\Datasets\\DeepFashion2\\Mask RCNN\\Clothes\\Dataset Splits\\Shorts\\dataset\\train\\Archive"
   ]
  },
  {
   "cell_type": "code",
   "execution_count": 10,
   "metadata": {},
   "outputs": [
    {
     "data": {
      "text/plain": [
       "'D:\\\\DCU\\\\Practicum\\\\Datasets\\\\DeepFashion2\\\\Mask RCNN\\\\Clothes\\\\Dataset Splits\\\\Shorts\\\\dataset\\\\train\\\\Archive'"
      ]
     },
     "execution_count": 10,
     "metadata": {},
     "output_type": "execute_result"
    }
   ],
   "source": [
    "pwd"
   ]
  },
  {
   "cell_type": "markdown",
   "metadata": {},
   "source": [
    "# Train"
   ]
  },
  {
   "cell_type": "code",
   "execution_count": 11,
   "metadata": {},
   "outputs": [
    {
     "name": "stdout",
     "output_type": "stream",
     "text": [
      "Number of occurrences of short sleeve top : 20158\n",
      "Number of occurrences of long sleeve top : 5317\n",
      "Number of occurrences of short sleeve outwear : 149\n",
      "Number of occurrences of long sleeve outwear : 2498\n",
      "Number of occurrences of vest : 4852\n",
      "Number of occurrences of sling : 524\n",
      "Number of occurrences of shorts : 36616\n",
      "Number of occurrences of trousers : 381\n",
      "Number of occurrences of skirt : 83\n",
      "Number of occurrences of short sleeve dress : 159\n",
      "Number of occurrences of long sleeve dress : 60\n",
      "Number of occurrences of vest dress : 119\n",
      "Number of occurrences of sling dress : 15\n"
     ]
    }
   ],
   "source": [
    "import json\n",
    "\n",
    "#Printing the number of items in each categories (ORIGINAL DATA)\n",
    "\n",
    "file = open(\"via_region_data_train.json\", \"r\")\n",
    "\n",
    "#read content of file to string\n",
    "data = file.read()\n",
    "\n",
    "#get number of occurrences of the substring in the string\n",
    "sst = data.count(\"short sleeve top\")\n",
    "lst = data.count(\"long sleeve top\")\n",
    "sso = data.count(\"short sleeve outwear\")\n",
    "lso = data.count(\"long sleeve outwear\")\n",
    "vest = data.count(\"vest\")\n",
    "sling = data.count(\"sling\")\n",
    "shorts = data.count(\"shorts\")\n",
    "trousers = data.count(\"trousers\")\n",
    "skirt = data.count(\"skirt\")\n",
    "ssd = data.count(\"short sleeve dress\")\n",
    "lsd = data.count(\"long sleeve dress\")\n",
    "vd = data.count(\"vest dress\")\n",
    "sd = data.count(\"sling dress\")\n",
    "\n",
    "\n",
    "print('Number of occurrences of short sleeve top :', sst)\n",
    "print('Number of occurrences of long sleeve top :', lst)\n",
    "print('Number of occurrences of short sleeve outwear :', sso)\n",
    "print('Number of occurrences of long sleeve outwear :', lso)\n",
    "print('Number of occurrences of vest :',vest)\n",
    "print('Number of occurrences of sling :', sling)\n",
    "print('Number of occurrences of shorts :', shorts)\n",
    "print('Number of occurrences of trousers :',trousers)\n",
    "print('Number of occurrences of skirt :',skirt)\n",
    "print('Number of occurrences of short sleeve dress :', ssd)\n",
    "print('Number of occurrences of long sleeve dress :', lsd)\n",
    "print('Number of occurrences of vest dress :',vd)\n",
    "print('Number of occurrences of sling dress :',sd)\n"
   ]
  },
  {
   "cell_type": "code",
   "execution_count": 13,
   "metadata": {},
   "outputs": [],
   "source": [
    "# Read in the file\n",
    "with open('via_region_data_train.json', 'r') as file :\n",
    "    filedata = file.read()\n",
    "\n",
    "# Replace the target string\n",
    "filedata = filedata.replace('short sleeve outwear', 'short sleeve top')\n",
    "filedata = filedata.replace('vest', 'short sleeve top')\n",
    "filedata = filedata.replace('sling', 'short sleeve top')\n",
    "\n",
    "filedata = filedata.replace('long sleeve outwear', 'long sleeve top')\n",
    "\n",
    "filedata = filedata.replace('long sleeve dress', 'dress')\n",
    "filedata = filedata.replace('short sleeve dress', 'dress')\n",
    "filedata = filedata.replace('vest dress', 'dress')\n",
    "filedata = filedata.replace('sling dress', 'dress')\n",
    "\n",
    "# Write the file out again\n",
    "with open('via_region_data_train_changed.json', 'w') as file:\n",
    "    file.write(filedata)\n"
   ]
  },
  {
   "cell_type": "code",
   "execution_count": 14,
   "metadata": {},
   "outputs": [],
   "source": [
    "import json\n",
    "\n",
    "with open('via_region_data_train_changed.json') as data_file:\n",
    "    test_changed = json.load(data_file)\n",
    "    \n",
    "#test_changed"
   ]
  },
  {
   "cell_type": "code",
   "execution_count": 15,
   "metadata": {},
   "outputs": [
    {
     "name": "stdout",
     "output_type": "stream",
     "text": [
      "Number of occurrences of short sleeve top : 25683\n",
      "Number of occurrences of long sleeve top : 7815\n",
      "Number of occurrences of dress : 353\n",
      "Number of occurrences of skirt : 83\n",
      "Number of occurrences of shorts : 36616\n",
      "Number of occurrences of trousers : 381\n",
      "\n",
      "Number of occurrences of short sleeve outwear : 0\n",
      "Number of occurrences of long sleeve outwear : 0\n",
      "Number of occurrences of vest : 0\n",
      "Number of occurrences of sling : 0\n",
      "Number of occurrences of short sleeve dress : 0\n",
      "Number of occurrences of long sleeve dress : 0\n",
      "Number of occurrences of vest dress : 0\n",
      "Number of occurrences of sling dress : 0\n"
     ]
    }
   ],
   "source": [
    "import json\n",
    "\n",
    "#Printing the number of items in each categories (ORIGINAL DATA)\n",
    "\n",
    "file = open(\"via_region_data_train_changed.json\", \"r\")\n",
    "\n",
    "#read content of file to string\n",
    "data = file.read()\n",
    "\n",
    "#get number of occurrences of the substring in the string\n",
    "sst = data.count(\"short sleeve top\")\n",
    "lst = data.count(\"long sleeve top\")\n",
    "sso = data.count(\"short sleeve outwear\")\n",
    "lso = data.count(\"long sleeve outwear\")\n",
    "vest = data.count(\"vest\")\n",
    "sling = data.count(\"sling\")\n",
    "shorts = data.count(\"shorts\")\n",
    "trousers = data.count(\"trousers\")\n",
    "skirt = data.count(\"skirt\")\n",
    "ssd = data.count(\"short sleeve dress\")\n",
    "lsd = data.count(\"long sleeve dress\")\n",
    "vd = data.count(\"vest dress\")\n",
    "sd = data.count(\"sling dress\")\n",
    "dress = data.count(\"dress\")\n",
    "\n",
    "\n",
    "print('Number of occurrences of short sleeve top :', sst)\n",
    "print('Number of occurrences of long sleeve top :', lst)\n",
    "print('Number of occurrences of dress :',dress)\n",
    "print('Number of occurrences of skirt :',skirt)\n",
    "print('Number of occurrences of shorts :', shorts)\n",
    "print('Number of occurrences of trousers :',trousers)\n",
    "\n",
    "print('\\nNumber of occurrences of short sleeve outwear :', sso)\n",
    "print('Number of occurrences of long sleeve outwear :', lso)\n",
    "print('Number of occurrences of vest :',vest)\n",
    "print('Number of occurrences of sling :', sling)\n",
    "\n",
    "\n",
    "print('Number of occurrences of short sleeve dress :', ssd)\n",
    "print('Number of occurrences of long sleeve dress :', lsd)\n",
    "print('Number of occurrences of vest dress :',vd)\n",
    "print('Number of occurrences of sling dress :',sd)\n"
   ]
  },
  {
   "cell_type": "markdown",
   "metadata": {},
   "source": [
    "# Validate"
   ]
  },
  {
   "cell_type": "code",
   "execution_count": 8,
   "metadata": {},
   "outputs": [
    {
     "name": "stdout",
     "output_type": "stream",
     "text": [
      "Number of occurrences of short sleeve top : 12556\n",
      "Number of occurrences of long sleeve top : 5966\n",
      "Number of occurrences of short sleeve outwear : 142\n",
      "Number of occurrences of long sleeve outwear : 2011\n",
      "Number of occurrences of vest : 5465\n",
      "Number of occurrences of sling : 1471\n",
      "Number of occurrences of shorts : 4167\n",
      "Number of occurrences of trousers : 9586\n",
      "Number of occurrences of skirt : 6522\n",
      "Number of occurrences of short sleeve dress : 3127\n",
      "Number of occurrences of long sleeve dress : 1477\n",
      "Number of occurrences of vest dress : 3352\n",
      "Number of occurrences of sling dress : 1149\n"
     ]
    }
   ],
   "source": [
    "import json\n",
    "\n",
    "#Printing the number of items in each categories (ORIGINAL DATA)\n",
    "\n",
    "file = open(\"via_region_data_val.json\", \"r\")\n",
    "\n",
    "#read content of file to string\n",
    "data = file.read()\n",
    "\n",
    "#get number of occurrences of the substring in the string\n",
    "sst = data.count(\"short sleeve top\")\n",
    "lst = data.count(\"long sleeve top\")\n",
    "sso = data.count(\"short sleeve outwear\")\n",
    "lso = data.count(\"long sleeve outwear\")\n",
    "vest = data.count(\"vest\")\n",
    "sling = data.count(\"sling\")\n",
    "shorts = data.count(\"shorts\")\n",
    "trousers = data.count(\"trousers\")\n",
    "skirt = data.count(\"skirt\")\n",
    "ssd = data.count(\"short sleeve dress\")\n",
    "lsd = data.count(\"long sleeve dress\")\n",
    "vd = data.count(\"vest dress\")\n",
    "sd = data.count(\"sling dress\")\n",
    "\n",
    "\n",
    "print('Number of occurrences of short sleeve top :', sst)\n",
    "print('Number of occurrences of long sleeve top :', lst)\n",
    "print('Number of occurrences of short sleeve outwear :', sso)\n",
    "print('Number of occurrences of long sleeve outwear :', lso)\n",
    "print('Number of occurrences of vest :',vest)\n",
    "print('Number of occurrences of sling :', sling)\n",
    "print('Number of occurrences of shorts :', shorts)\n",
    "print('Number of occurrences of trousers :',trousers)\n",
    "print('Number of occurrences of skirt :',skirt)\n",
    "print('Number of occurrences of short sleeve dress :', ssd)\n",
    "print('Number of occurrences of long sleeve dress :', lsd)\n",
    "print('Number of occurrences of vest dress :',vd)\n",
    "print('Number of occurrences of sling dress :',sd)\n"
   ]
  },
  {
   "cell_type": "code",
   "execution_count": 9,
   "metadata": {},
   "outputs": [],
   "source": [
    "# Read in the file\n",
    "with open('via_region_data_val.json', 'r') as file :\n",
    "    filedata = file.read()\n",
    "\n",
    "# Replace the target string\n",
    "filedata = filedata.replace('short sleeve outwear', 'short sleeve top')\n",
    "filedata = filedata.replace('vest', 'short sleeve top')\n",
    "filedata = filedata.replace('sling', 'short sleeve top')\n",
    "\n",
    "filedata = filedata.replace('long sleeve outwear', 'long sleeve top')\n",
    "\n",
    "filedata = filedata.replace('long sleeve dress', 'dress')\n",
    "filedata = filedata.replace('short sleeve dress', 'dress')\n",
    "filedata = filedata.replace('vest dress', 'dress')\n",
    "filedata = filedata.replace('sling dress', 'dress')\n",
    "\n",
    "# Write the file out again\n",
    "with open('via_region_data_val_changed.json', 'w') as file:\n",
    "    file.write(filedata)\n"
   ]
  },
  {
   "cell_type": "code",
   "execution_count": 10,
   "metadata": {},
   "outputs": [],
   "source": [
    "import json\n",
    "\n",
    "with open('via_region_data_val_changed.json') as data_file:\n",
    "    test_changed = json.load(data_file)\n",
    "    \n",
    "#test_changed"
   ]
  },
  {
   "cell_type": "code",
   "execution_count": 11,
   "metadata": {},
   "outputs": [
    {
     "name": "stdout",
     "output_type": "stream",
     "text": [
      "Number of occurrences of short sleeve top : 19634\n",
      "Number of occurrences of long sleeve top : 7977\n",
      "Number of occurrences of dress : 9105\n",
      "Number of occurrences of skirt : 6522\n",
      "Number of occurrences of shorts : 4167\n",
      "Number of occurrences of trousers : 9586\n",
      "\n",
      "Number of occurrences of short sleeve outwear : 0\n",
      "Number of occurrences of long sleeve outwear : 0\n",
      "Number of occurrences of vest : 0\n",
      "Number of occurrences of sling : 0\n",
      "Number of occurrences of short sleeve dress : 0\n",
      "Number of occurrences of long sleeve dress : 0\n",
      "Number of occurrences of vest dress : 0\n",
      "Number of occurrences of sling dress : 0\n"
     ]
    }
   ],
   "source": [
    "import json\n",
    "\n",
    "#Printing the number of items in each categories (ORIGINAL DATA)\n",
    "\n",
    "file = open(\"via_region_data_val_changed.json\", \"r\")\n",
    "\n",
    "#read content of file to string\n",
    "data = file.read()\n",
    "\n",
    "#get number of occurrences of the substring in the string\n",
    "sst = data.count(\"short sleeve top\")\n",
    "lst = data.count(\"long sleeve top\")\n",
    "sso = data.count(\"short sleeve outwear\")\n",
    "lso = data.count(\"long sleeve outwear\")\n",
    "vest = data.count(\"vest\")\n",
    "sling = data.count(\"sling\")\n",
    "shorts = data.count(\"shorts\")\n",
    "trousers = data.count(\"trousers\")\n",
    "skirt = data.count(\"skirt\")\n",
    "ssd = data.count(\"short sleeve dress\")\n",
    "lsd = data.count(\"long sleeve dress\")\n",
    "vd = data.count(\"vest dress\")\n",
    "sd = data.count(\"sling dress\")\n",
    "dress = data.count(\"dress\")\n",
    "\n",
    "\n",
    "print('Number of occurrences of short sleeve top :', sst)\n",
    "print('Number of occurrences of long sleeve top :', lst)\n",
    "print('Number of occurrences of dress :',dress)\n",
    "print('Number of occurrences of skirt :',skirt)\n",
    "print('Number of occurrences of shorts :', shorts)\n",
    "print('Number of occurrences of trousers :',trousers)\n",
    "\n",
    "print('\\nNumber of occurrences of short sleeve outwear :', sso)\n",
    "print('Number of occurrences of long sleeve outwear :', lso)\n",
    "print('Number of occurrences of vest :',vest)\n",
    "print('Number of occurrences of sling :', sling)\n",
    "\n",
    "\n",
    "print('Number of occurrences of short sleeve dress :', ssd)\n",
    "print('Number of occurrences of long sleeve dress :', lsd)\n",
    "print('Number of occurrences of vest dress :',vd)\n",
    "print('Number of occurrences of sling dress :',sd)\n"
   ]
  }
 ],
 "metadata": {
  "kernelspec": {
   "display_name": "Python 3",
   "language": "python",
   "name": "python3"
  },
  "language_info": {
   "codemirror_mode": {
    "name": "ipython",
    "version": 3
   },
   "file_extension": ".py",
   "mimetype": "text/x-python",
   "name": "python",
   "nbconvert_exporter": "python",
   "pygments_lexer": "ipython3",
   "version": "3.7.3"
  }
 },
 "nbformat": 4,
 "nbformat_minor": 2
}

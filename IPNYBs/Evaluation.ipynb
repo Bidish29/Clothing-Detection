{
 "cells": [
  {
   "cell_type": "code",
   "execution_count": 1,
   "metadata": {},
   "outputs": [
    {
     "data": {
      "text/plain": [
       "'D:\\\\DCU\\\\Practicum\\\\Datasets\\\\DeepFashion2\\\\Mask RCNN\\\\Clothes\\\\IPNYBs'"
      ]
     },
     "execution_count": 1,
     "metadata": {},
     "output_type": "execute_result"
    }
   ],
   "source": [
    "pwd"
   ]
  },
  {
   "cell_type": "code",
   "execution_count": 2,
   "metadata": {},
   "outputs": [
    {
     "name": "stdout",
     "output_type": "stream",
     "text": [
      "D:\\DCU\\Practicum\\Datasets\\DeepFashion2\\Mask RCNN\\Clothes\n"
     ]
    }
   ],
   "source": [
    "%cd .."
   ]
  },
  {
   "cell_type": "code",
   "execution_count": 3,
   "metadata": {},
   "outputs": [
    {
     "name": "stdout",
     "output_type": "stream",
     "text": [
      "D:\\DCU\\Practicum\\Datasets\\DeepFashion2\\Mask RCNN\\Clothes\\main8\\Mask_RCNN\n"
     ]
    }
   ],
   "source": [
    "cd main8/Mask_RCNN"
   ]
  },
  {
   "cell_type": "code",
   "execution_count": 4,
   "metadata": {},
   "outputs": [
    {
     "name": "stdout",
     "output_type": "stream",
     "text": [
      " Volume in drive D is Study\n",
      " Volume Serial Number is 16C4-DB1E\n",
      "\n",
      " Directory of D:\\DCU\\Practicum\\Datasets\\DeepFashion2\\Mask RCNN\\Clothes\\main8\\Mask_RCNN\n",
      "\n",
      "10-06-2020  19:02    <DIR>          .\n",
      "10-06-2020  19:02    <DIR>          ..\n",
      "31-03-2019  23:03               569 .gitignore\n",
      "10-06-2020  19:02    <DIR>          __pycache__\n",
      "08-06-2020  13:54            15,849 clothes.py\n",
      "02-06-2020  14:49         1,417,321 Fashion_MaskRCNN_V1.ipynb\n",
      "03-06-2020  16:24         1,414,007 Fashion_MaskRCNN_V2.ipynb\n",
      "31-03-2019  23:03             1,095 LICENSE\n",
      "31-03-2019  23:03                58 MANIFEST.in\n",
      "10-06-2020  10:49    <DIR>          mrcnn\n",
      "06-06-2020  17:46            15,209 newclothes.py\n",
      "31-03-2019  23:03            13,771 README.md\n",
      "31-03-2019  23:03               119 requirements.txt\n",
      "31-03-2019  23:03                99 setup.cfg\n",
      "31-03-2019  23:03             2,518 setup.py\n",
      "              11 File(s)      2,880,615 bytes\n",
      "               4 Dir(s)  412,324,196,352 bytes free\n"
     ]
    }
   ],
   "source": [
    "ls"
   ]
  },
  {
   "cell_type": "code",
   "execution_count": 7,
   "metadata": {},
   "outputs": [
    {
     "name": "stderr",
     "output_type": "stream",
     "text": [
      "Using TensorFlow backend.\n"
     ]
    }
   ],
   "source": [
    "import os\n",
    "import sys\n",
    "import random\n",
    "import math\n",
    "import re\n",
    "import time\n",
    "import numpy as np\n",
    "import tensorflow as tf\n",
    "import matplotlib\n",
    "import matplotlib.pyplot as plt\n",
    "import matplotlib.patches as patches\n",
    "\n",
    "# Root directory of the project\n",
    "ROOT_DIR = \"D:\\DCU\\Practicum\\Datasets\\DeepFashion2\\Mask RCNN\\Clothes\\main8\\Mask_RCNN\"\n",
    "\n",
    "MODEL_DIR = \"D:\\DCU\\Practicum\\Datasets\\DeepFashion2\\Mask RCNN\\Clothes\\weights\\10th_june\\mask_rcnn_object_0100.h5\"\n",
    "# Import Mask RCNN\n",
    "sys.path.append(ROOT_DIR)  # To find local version of the library\n",
    "from mrcnn import utils\n",
    "from mrcnn import visualize\n",
    "from mrcnn.visualize import display_images\n",
    "import mrcnn.model as modellib\n",
    "from mrcnn.model import log\n",
    "\n",
    "import clothes\n",
    "\n",
    "%matplotlib inline"
   ]
  },
  {
   "cell_type": "code",
   "execution_count": 8,
   "metadata": {},
   "outputs": [],
   "source": [
    "config = clothes.CustomConfig()"
   ]
  },
  {
   "cell_type": "code",
   "execution_count": 9,
   "metadata": {},
   "outputs": [
    {
     "name": "stdout",
     "output_type": "stream",
     "text": [
      "\n",
      "Configurations:\n",
      "BACKBONE                       resnet101\n",
      "BACKBONE_STRIDES               [4, 8, 16, 32, 64]\n",
      "BATCH_SIZE                     1\n",
      "BBOX_STD_DEV                   [0.1 0.1 0.2 0.2]\n",
      "COMPUTE_BACKBONE_SHAPE         None\n",
      "DETECTION_MAX_INSTANCES        100\n",
      "DETECTION_MIN_CONFIDENCE       0.9\n",
      "DETECTION_NMS_THRESHOLD        0.3\n",
      "FPN_CLASSIF_FC_LAYERS_SIZE     1024\n",
      "GPU_COUNT                      1\n",
      "GRADIENT_CLIP_NORM             5.0\n",
      "IMAGES_PER_GPU                 1\n",
      "IMAGE_CHANNEL_COUNT            3\n",
      "IMAGE_MAX_DIM                  1024\n",
      "IMAGE_META_SIZE                26\n",
      "IMAGE_MIN_DIM                  800\n",
      "IMAGE_MIN_SCALE                0\n",
      "IMAGE_RESIZE_MODE              square\n",
      "IMAGE_SHAPE                    [1024 1024    3]\n",
      "LEARNING_MOMENTUM              0.9\n",
      "LEARNING_RATE                  0.001\n",
      "LOSS_WEIGHTS                   {'rpn_class_loss': 1.0, 'rpn_bbox_loss': 1.0, 'mrcnn_class_loss': 1.0, 'mrcnn_bbox_loss': 1.0, 'mrcnn_mask_loss': 1.0}\n",
      "MASK_POOL_SIZE                 14\n",
      "MASK_SHAPE                     [28, 28]\n",
      "MAX_GT_INSTANCES               100\n",
      "MEAN_PIXEL                     [123.7 116.8 103.9]\n",
      "MINI_MASK_SHAPE                (56, 56)\n",
      "NAME                           object\n",
      "NUM_CLASSES                    14\n",
      "POOL_SIZE                      7\n",
      "POST_NMS_ROIS_INFERENCE        1000\n",
      "POST_NMS_ROIS_TRAINING         2000\n",
      "PRE_NMS_LIMIT                  6000\n",
      "ROI_POSITIVE_RATIO             0.33\n",
      "RPN_ANCHOR_RATIOS              [0.5, 1, 2]\n",
      "RPN_ANCHOR_SCALES              (32, 64, 128, 256, 512)\n",
      "RPN_ANCHOR_STRIDE              1\n",
      "RPN_BBOX_STD_DEV               [0.1 0.1 0.2 0.2]\n",
      "RPN_NMS_THRESHOLD              0.7\n",
      "RPN_TRAIN_ANCHORS_PER_IMAGE    256\n",
      "STEPS_PER_EPOCH                1\n",
      "TOP_DOWN_PYRAMID_SIZE          256\n",
      "TRAIN_BN                       False\n",
      "TRAIN_ROIS_PER_IMAGE           200\n",
      "USE_MINI_MASK                  True\n",
      "USE_RPN_ROIS                   True\n",
      "VALIDATION_STEPS               50\n",
      "WEIGHT_DECAY                   0.0001\n",
      "\n",
      "\n"
     ]
    }
   ],
   "source": [
    "# Override the training configurations with a few\n",
    "# changes for inferencing.\n",
    "class InferenceConfig(config.__class__):\n",
    "    # Run detection on one image at a time\n",
    "    GPU_COUNT = 1\n",
    "    IMAGES_PER_GPU = 1\n",
    "\n",
    "config = InferenceConfig()\n",
    "config.display()"
   ]
  },
  {
   "cell_type": "code",
   "execution_count": 10,
   "metadata": {},
   "outputs": [],
   "source": [
    "# Device to load the neural network on.\n",
    "# Useful if you're training a model on the same \n",
    "# machine, in which case use CPU and leave the\n",
    "# GPU for training.\n",
    "DEVICE = \"/cpu:0\"  # /cpu:0 or /gpu:0\n",
    "\n",
    "# Inspect the model in training or inference modes\n",
    "# values: 'inference' or 'training'\n",
    "# TODO: code for 'training' test mode not ready yet\n",
    "TEST_MODE = \"inference\""
   ]
  },
  {
   "cell_type": "code",
   "execution_count": 11,
   "metadata": {},
   "outputs": [],
   "source": [
    "\n",
    "def get_ax(rows=1, cols=1, size=16):\n",
    "    \"\"\"Return a Matplotlib Axes array to be used in\n",
    "    all visualizations in the notebook. Provide a\n",
    "    central point to control graph sizes.\n",
    "    \n",
    "    Adjust the size attribute to control how big to render images\n",
    "    \"\"\"\n",
    "    _, ax = plt.subplots(rows, cols, figsize=(size*cols, size*rows))\n",
    "    return ax"
   ]
  },
  {
   "cell_type": "code",
   "execution_count": 13,
   "metadata": {},
   "outputs": [],
   "source": [
    "CUSTOM_DIR = r\"D:\\DCU\\Practicum\\Datasets\\DeepFashion2\\Mask RCNN\\Clothes\\main8\\dataset\""
   ]
  },
  {
   "cell_type": "code",
   "execution_count": 14,
   "metadata": {},
   "outputs": [
    {
     "name": "stdout",
     "output_type": "stream",
     "text": [
      "objects: ['short sleeve dress']\n",
      "numids [10]\n",
      "objects: ['long sleeve top']\n",
      "numids [2]\n",
      "objects: ['vest dress']\n",
      "numids [12]\n",
      "objects: ['shorts']\n",
      "numids [7]\n",
      "objects: ['short sleeve dress']\n",
      "numids [10]\n",
      "objects: ['shorts']\n",
      "numids [7]\n",
      "objects: ['skirt', 'short sleeve top']\n",
      "numids [9, 1]\n",
      "objects: ['skirt', 'sling']\n",
      "numids [9, 6]\n",
      "objects: ['trousers', 'long sleeve top']\n",
      "numids [8, 2]\n",
      "objects: ['trousers', 'long sleeve top']\n",
      "numids [8, 2]\n",
      "objects: ['long sleeve outwear', 'shorts']\n",
      "numids [4, 7]\n",
      "objects: ['long sleeve outwear', 'trousers']\n",
      "numids [4, 8]\n",
      "objects: ['shorts', 'short sleeve top']\n",
      "numids [7, 1]\n",
      "objects: ['shorts', 'long sleeve top']\n",
      "numids [7, 2]\n",
      "objects: ['short sleeve top', 'shorts']\n",
      "numids [1, 7]\n",
      "objects: ['trousers', 'long sleeve outwear']\n",
      "numids [8, 4]\n",
      "objects: ['long sleeve dress']\n",
      "numids [11]\n",
      "objects: ['trousers', 'short sleeve dress']\n",
      "numids [8, 10]\n",
      "objects: ['vest dress']\n",
      "numids [12]\n",
      "objects: ['shorts', 'long sleeve top']\n",
      "numids [7, 2]\n",
      "objects: ['short sleeve top', 'vest dress']\n",
      "numids [1, 12]\n",
      "objects: ['skirt', 'long sleeve top']\n",
      "numids [9, 2]\n",
      "objects: ['short sleeve dress']\n",
      "numids [10]\n",
      "objects: ['long sleeve dress']\n",
      "numids [11]\n",
      "objects: ['shorts']\n",
      "numids [7]\n",
      "objects: ['trousers']\n",
      "numids [8]\n",
      "objects: ['shorts']\n",
      "numids [7]\n",
      "objects: ['trousers', 'short sleeve top']\n",
      "numids [8, 1]\n",
      "objects: ['shorts', 'long sleeve outwear']\n",
      "numids [7, 4]\n",
      "objects: ['skirt', 'short sleeve top']\n",
      "numids [9, 1]\n",
      "objects: ['short sleeve top', 'trousers']\n",
      "numids [1, 8]\n",
      "objects: ['trousers', 'long sleeve top']\n",
      "numids [8, 2]\n",
      "objects: ['short sleeve top', 'shorts']\n",
      "numids [1, 7]\n",
      "objects: ['short sleeve top', 'trousers']\n",
      "numids [1, 8]\n",
      "objects: ['short sleeve top', 'trousers']\n",
      "numids [1, 8]\n",
      "objects: ['short sleeve dress']\n",
      "numids [10]\n",
      "objects: ['long sleeve top', 'trousers']\n",
      "numids [2, 8]\n",
      "objects: ['vest', 'skirt']\n",
      "numids [5, 9]\n",
      "objects: ['short sleeve top', 'shorts']\n",
      "numids [1, 7]\n",
      "objects: ['shorts', 'short sleeve top']\n",
      "numids [7, 1]\n",
      "objects: ['vest dress']\n",
      "numids [12]\n",
      "objects: ['skirt', 'long sleeve top']\n",
      "numids [9, 2]\n",
      "objects: ['shorts']\n",
      "numids [7]\n",
      "objects: ['shorts', 'long sleeve top']\n",
      "numids [7, 2]\n",
      "objects: ['short sleeve dress']\n",
      "numids [10]\n",
      "objects: ['short sleeve top', 'trousers']\n",
      "numids [1, 8]\n",
      "objects: ['shorts', 'short sleeve top']\n",
      "numids [7, 1]\n",
      "objects: ['trousers', 'long sleeve top']\n",
      "numids [8, 2]\n",
      "objects: ['shorts', 'short sleeve top']\n",
      "numids [7, 1]\n",
      "objects: ['short sleeve dress']\n",
      "numids [10]\n"
     ]
    }
   ],
   "source": [
    "# Load validation dataset\n",
    "dataset = clothes.CustomDataset()\n",
    "dataset.load_custom(CUSTOM_DIR, \"val\")"
   ]
  },
  {
   "cell_type": "code",
   "execution_count": 15,
   "metadata": {},
   "outputs": [
    {
     "name": "stdout",
     "output_type": "stream",
     "text": [
      "Images: 50\n",
      "Classes: ['BG', 'short sleeve top', 'long sleeve top', 'short sleeve outwear', 'long sleeve outwear', 'vest', 'sling', 'shorts', 'trousers', 'skirt', 'short sleeve dress', 'long sleeve dress', 'vest dress', 'sling dress']\n"
     ]
    }
   ],
   "source": [
    "# Must call before using the dataset\n",
    "dataset.prepare()\n",
    "\n",
    "print(\"Images: {}\\nClasses: {}\".format(len(dataset.image_ids), dataset.class_names))"
   ]
  },
  {
   "cell_type": "code",
   "execution_count": 16,
   "metadata": {},
   "outputs": [
    {
     "name": "stdout",
     "output_type": "stream",
     "text": [
      "WARNING:tensorflow:From C:\\Users\\bidis\\Anaconda3\\lib\\site-packages\\keras\\backend\\tensorflow_backend.py:4070: The name tf.nn.max_pool is deprecated. Please use tf.nn.max_pool2d instead.\n",
      "\n",
      "WARNING:tensorflow:From D:\\DCU\\Practicum\\Datasets\\DeepFashion2\\Mask RCNN\\Clothes\\IPNYBs\\mrcnn\\model.py:341: The name tf.log is deprecated. Please use tf.math.log instead.\n",
      "\n",
      "WARNING:tensorflow:From D:\\DCU\\Practicum\\Datasets\\DeepFashion2\\Mask RCNN\\Clothes\\IPNYBs\\mrcnn\\model.py:399: add_dispatch_support.<locals>.wrapper (from tensorflow.python.ops.array_ops) is deprecated and will be removed in a future version.\n",
      "Instructions for updating:\n",
      "Use tf.where in 2.0, which has the same broadcast rule as np.where\n",
      "WARNING:tensorflow:From D:\\DCU\\Practicum\\Datasets\\DeepFashion2\\Mask RCNN\\Clothes\\IPNYBs\\mrcnn\\model.py:423: calling crop_and_resize_v1 (from tensorflow.python.ops.image_ops_impl) with box_ind is deprecated and will be removed in a future version.\n",
      "Instructions for updating:\n",
      "box_ind is deprecated, use box_indices instead\n",
      "WARNING:tensorflow:From D:\\DCU\\Practicum\\Datasets\\DeepFashion2\\Mask RCNN\\Clothes\\IPNYBs\\mrcnn\\model.py:720: The name tf.sets.set_intersection is deprecated. Please use tf.sets.intersection instead.\n",
      "\n",
      "WARNING:tensorflow:From D:\\DCU\\Practicum\\Datasets\\DeepFashion2\\Mask RCNN\\Clothes\\IPNYBs\\mrcnn\\model.py:722: The name tf.sparse_tensor_to_dense is deprecated. Please use tf.sparse.to_dense instead.\n",
      "\n",
      "WARNING:tensorflow:From D:\\DCU\\Practicum\\Datasets\\DeepFashion2\\Mask RCNN\\Clothes\\IPNYBs\\mrcnn\\model.py:772: to_float (from tensorflow.python.ops.math_ops) is deprecated and will be removed in a future version.\n",
      "Instructions for updating:\n",
      "Use `tf.cast` instead.\n"
     ]
    }
   ],
   "source": [
    "with tf.device(DEVICE):\n",
    "    model = modellib.MaskRCNN(mode=\"inference\", model_dir=MODEL_DIR,\n",
    "                              config=config)"
   ]
  },
  {
   "cell_type": "code",
   "execution_count": 18,
   "metadata": {},
   "outputs": [
    {
     "name": "stdout",
     "output_type": "stream",
     "text": [
      "Loading weights  D:\\DCU\\Practicum\\Datasets\\DeepFashion2\\Mask RCNN\\Clothes\\weights\\10th_june\\mask_rcnn_object_0100.h5\n"
     ]
    }
   ],
   "source": [
    "# Set path to balloon weights file\n",
    "\n",
    "# Download file from the Releases page and set its path\n",
    "# https://github.com/matterport/Mask_RCNN/releases\n",
    "# weights_path = \"/path/to/mask_rcnn_idv.h5\"\n",
    "\n",
    "# Or, load the last model you trained\n",
    "weights_path = r\"D:\\DCU\\Practicum\\Datasets\\DeepFashion2\\Mask RCNN\\Clothes\\weights\\10th_june\\mask_rcnn_object_0100.h5\"\n",
    "\n",
    "# Load weights\n",
    "print(\"Loading weights \", weights_path)\n",
    "model.load_weights(weights_path, by_name=True)"
   ]
  },
  {
   "cell_type": "code",
   "execution_count": 19,
   "metadata": {},
   "outputs": [],
   "source": [
    "#list=[0,1,2,3,4,5,6]"
   ]
  },
  {
   "cell_type": "code",
   "execution_count": null,
   "metadata": {},
   "outputs": [
    {
     "name": "stdout",
     "output_type": "stream",
     "text": [
      "image ID: object.051922.jpg (10) D:\\DCU\\Practicum\\Datasets\\DeepFashion2\\Mask RCNN\\Clothes\\main8\\dataset\\val\\051922.jpg\n",
      "Processing 1 images\n",
      "image                    shape: (1024, 1024, 3)       min:    0.00000  max:  255.00000  uint8\n",
      "molded_images            shape: (1, 1024, 1024, 3)    min: -123.70000  max:  151.10000  float64\n",
      "image_metas              shape: (1, 26)               min:    0.00000  max: 1024.00000  int32\n",
      "anchors                  shape: (1, 261888, 4)        min:   -0.35390  max:    1.29134  float32\n"
     ]
    }
   ],
   "source": [
    "#for i in list:\n",
    "image_id = 10\n",
    "image, image_meta, gt_class_id, gt_bbox, gt_mask =\\\n",
    "    modellib.load_image_gt(dataset, config, image_id, use_mini_mask=False)\n",
    "info = dataset.image_info[image_id]\n",
    "print(\"image ID: {}.{} ({}) {}\".format(info[\"source\"], info[\"id\"], image_id, \n",
    "                               dataset.image_reference(image_id)))\n",
    "\n",
    "# Run object detection\n",
    "results = model.detect([image], verbose=1)\n",
    "\n",
    "# Display results\n",
    "ax = get_ax(1)\n",
    "r = results[0]\n",
    "visualize.display_instances(image, r['rois'], r['masks'], r['class_ids'], \n",
    "                    dataset.class_names, r['scores'], ax=ax,\n",
    "                    title=\"Predictions\")\n",
    "log(\"gt_class_id\", gt_class_id)\n",
    "log(\"gt_bbox\", gt_bbox)\n",
    "log(\"gt_mask\", gt_mask)"
   ]
  },
  {
   "cell_type": "code",
   "execution_count": null,
   "metadata": {},
   "outputs": [],
   "source": []
  },
  {
   "cell_type": "code",
   "execution_count": null,
   "metadata": {},
   "outputs": [],
   "source": []
  },
  {
   "cell_type": "code",
   "execution_count": null,
   "metadata": {},
   "outputs": [],
   "source": []
  }
 ],
 "metadata": {
  "kernelspec": {
   "display_name": "Python 3",
   "language": "python",
   "name": "python3"
  },
  "language_info": {
   "codemirror_mode": {
    "name": "ipython",
    "version": 3
   },
   "file_extension": ".py",
   "mimetype": "text/x-python",
   "name": "python",
   "nbconvert_exporter": "python",
   "pygments_lexer": "ipython3",
   "version": "3.7.3"
  }
 },
 "nbformat": 4,
 "nbformat_minor": 2
}
